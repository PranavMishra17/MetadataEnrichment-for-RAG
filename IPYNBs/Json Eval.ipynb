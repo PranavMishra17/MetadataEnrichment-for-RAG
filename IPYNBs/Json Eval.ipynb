{
 "cells": [
  {
   "cell_type": "code",
   "execution_count": 49,
   "id": "95f24735",
   "metadata": {},
   "outputs": [],
   "source": [
    "import json\n",
    "import numpy as np\n",
    "from pathlib import Path\n",
    "from typing import Dict, List, Any, Set, Tuple\n",
    "import logging\n",
    "from tqdm import tqdm\n",
    "from nltk.translate.bleu_score import sentence_bleu, SmoothingFunction\n",
    "from bert_score import score as bert_score\n",
    "import nltk\n",
    "from nltk.tokenize import word_tokenize, sent_tokenize\n",
    "from collections import defaultdict, Counter\n",
    "import torch\n",
    "from transformers import AutoTokenizer, AutoModel\n",
    "import pickle\n",
    "\n",
    "class RougeCalculator:\n",
    "    \"\"\"Custom implementation of ROUGE metrics\"\"\"\n",
    "    \n",
    "    @staticmethod\n",
    "    def _get_ngrams(text: str, n: int) -> Counter:\n",
    "        \"\"\"Get n-gram counts from text\"\"\"\n",
    "        tokens = word_tokenize(text.lower())\n",
    "        ngrams = Counter()\n",
    "        for i in range(len(tokens) - n + 1):\n",
    "            ngram = tuple(tokens[i:i + n])\n",
    "            ngrams[ngram] += 1\n",
    "        return ngrams\n",
    "        \n",
    "    @staticmethod\n",
    "    def _lcs(str1: List[str], str2: List[str]) -> int:\n",
    "        \"\"\"Calculate Longest Common Subsequence length\"\"\"\n",
    "        m, n = len(str1), len(str2)\n",
    "        dp = [[0] * (n + 1) for _ in range(m + 1)]\n",
    "        \n",
    "        for i in range(1, m + 1):\n",
    "            for j in range(1, n + 1):\n",
    "                if str1[i-1] == str2[j-1]:\n",
    "                    dp[i][j] = dp[i-1][j-1] + 1\n",
    "                else:\n",
    "                    dp[i][j] = max(dp[i-1][j], dp[i][j-1])\n",
    "        \n",
    "        return dp[m][n]\n",
    "    \n",
    "    @staticmethod\n",
    "    def calculate_rouge_scores(generated: str, reference: str) -> Dict[str, float]:\n",
    "        \"\"\"Calculate ROUGE-1, ROUGE-2, and ROUGE-L scores\"\"\"\n",
    "        # Convert to lowercase and tokenize\n",
    "        gen_tokens = word_tokenize(generated.lower())\n",
    "        ref_tokens = word_tokenize(reference.lower())\n",
    "        \n",
    "        # Get n-grams\n",
    "        gen_1grams = RougeCalculator._get_ngrams(generated, 1)\n",
    "        ref_1grams = RougeCalculator._get_ngrams(reference, 1)\n",
    "        gen_2grams = RougeCalculator._get_ngrams(generated, 2)\n",
    "        ref_2grams = RougeCalculator._get_ngrams(reference, 2)\n",
    "        \n",
    "        # Calculate ROUGE-1\n",
    "        overlap_1grams = sum((gen_1grams & ref_1grams).values())\n",
    "        if len(gen_1grams) == 0:\n",
    "            rouge1_precision = 0\n",
    "        else:\n",
    "            rouge1_precision = overlap_1grams / sum(gen_1grams.values())\n",
    "            \n",
    "        if len(ref_1grams) == 0:\n",
    "            rouge1_recall = 0\n",
    "        else:\n",
    "            rouge1_recall = overlap_1grams / sum(ref_1grams.values())\n",
    "            \n",
    "        rouge1_f1 = (2 * rouge1_precision * rouge1_recall) / (rouge1_precision + rouge1_recall + 1e-8)\n",
    "        \n",
    "        # Calculate ROUGE-2\n",
    "        overlap_2grams = sum((gen_2grams & ref_2grams).values())\n",
    "        if len(gen_2grams) == 0:\n",
    "            rouge2_precision = 0\n",
    "        else:\n",
    "            rouge2_precision = overlap_2grams / sum(gen_2grams.values())\n",
    "            \n",
    "        if len(ref_2grams) == 0:\n",
    "            rouge2_recall = 0\n",
    "        else:\n",
    "            rouge2_recall = overlap_2grams / sum(ref_2grams.values())\n",
    "            \n",
    "        rouge2_f1 = (2 * rouge2_precision * rouge2_recall) / (rouge2_precision + rouge2_recall + 1e-8)\n",
    "        \n",
    "        # Calculate ROUGE-L\n",
    "        lcs_length = RougeCalculator._lcs(gen_tokens, ref_tokens)\n",
    "        if len(gen_tokens) == 0:\n",
    "            rougeL_precision = 0\n",
    "        else:\n",
    "            rougeL_precision = lcs_length / len(gen_tokens)\n",
    "            \n",
    "        if len(ref_tokens) == 0:\n",
    "            rougeL_recall = 0\n",
    "        else:\n",
    "            rougeL_recall = lcs_length / len(ref_tokens)\n",
    "            \n",
    "        rougeL_f1 = (2 * rougeL_precision * rougeL_recall) / (rougeL_precision + rougeL_recall + 1e-8)\n",
    "        \n",
    "        return {\n",
    "            'rouge1_f': rouge1_f1,\n",
    "            'rouge2_f': rouge2_f1,\n",
    "            'rougeL_f': rougeL_f1\n",
    "        }\n",
    "\n",
    "class RAGEvaluator:\n",
    "    def __init__(self, ground_truth_path: str, rag_results_path: str, output_dir: str = \"rag_evaluation\"):\n",
    "        \"\"\"Initialize RAG evaluator with paths to result files\"\"\"\n",
    "        self.output_dir = Path(output_dir)\n",
    "        self.output_dir.mkdir(exist_ok=True)\n",
    "        \n",
    "        logging.basicConfig(\n",
    "            filename=self.output_dir / 'evaluation.log',\n",
    "            level=logging.INFO,\n",
    "            format='%(asctime)s - %(levelname)s - %(message)s'\n",
    "        )\n",
    "        self.logger = logging.getLogger(__name__)\n",
    "        \n",
    "        self.ground_truth = self._load_json(ground_truth_path)\n",
    "        self.rag_results = self._load_json(rag_results_path)\n",
    "        self.ground_truth_map = {item['question']: item['answer'] for item in self.ground_truth}\n",
    "        \n",
    "        try:\n",
    "            nltk.download('punkt', quiet=True)\n",
    "            nltk.download('wordnet', quiet=True)\n",
    "        except Exception as e:\n",
    "            self.logger.warning(f\"NLTK download error: {str(e)}\")\n",
    "        \n",
    "        self.rouge_calculator = RougeCalculator()\n",
    "        self.bert_tokenizer = AutoTokenizer.from_pretrained('bert-base-uncased')\n",
    "        self.bert_model = AutoModel.from_pretrained('bert-base-uncased')\n",
    "        self.sim_model = SentenceTransformer('all-MiniLM-L6-v2')\n",
    "            \n",
    "    def _load_json(self, path: str) -> List[Dict]:\n",
    "        \"\"\"Load JSON file with error handling\"\"\"\n",
    "        try:\n",
    "            with open(path, 'r', encoding='utf-8') as f:\n",
    "                return json.load(f)\n",
    "        except Exception as e:\n",
    "            self.logger.error(f\"Error loading {path}: {str(e)}\")\n",
    "            raise\n",
    "            \n",
    "    def _save_checkpoint(self, results: Dict, name: str):\n",
    "        \"\"\"Save evaluation checkpoint\"\"\"\n",
    "        checkpoint_path = self.output_dir / f\"{name}_checkpoint.pkl\"\n",
    "        with open(checkpoint_path, 'wb') as f:\n",
    "            pickle.dump(results, f)\n",
    "        self.logger.info(f\"Saved checkpoint: {checkpoint_path}\")\n",
    "            \n",
    "    def calculate_text_metrics(self, generated: str, reference: str) -> Dict[str, float]:\n",
    "        \"\"\"Calculate BLEU, ROUGE scores\"\"\"\n",
    "        try:\n",
    "            # BLEU\n",
    "            smoothie = SmoothingFunction().method1\n",
    "            bleu_score = sentence_bleu(\n",
    "                [word_tokenize(reference.lower())],\n",
    "                word_tokenize(generated.lower()),\n",
    "                smoothing_function=smoothie\n",
    "            )\n",
    "            \n",
    "            # ROUGE (using custom implementation)\n",
    "            rouge_scores = self.rouge_calculator.calculate_rouge_scores(generated, reference)\n",
    "            \n",
    "            return {\n",
    "                'bleu': bleu_score,\n",
    "                **rouge_scores\n",
    "            }\n",
    "        except Exception as e:\n",
    "            self.logger.error(f\"Error calculating text metrics: {str(e)}\")\n",
    "            return {'bleu': 0, 'rouge1_f': 0, 'rouge2_f': 0, 'rougeL_f': 0}\n",
    "            \n",
    "    def calculate_faithfulness(self, answer: str, retrieved_docs: List[Dict]) -> Dict[str, float]:\n",
    "        \"\"\"Calculate faithfulness and hallucination metrics\"\"\"\n",
    "        try:\n",
    "            # Combine all retrieved documents\n",
    "            context = \" \".join([doc['content'] for doc in retrieved_docs])\n",
    "            \n",
    "            # Tokenize answer and context\n",
    "            answer_tokens = set(word_tokenize(answer.lower()))\n",
    "            context_tokens = set(word_tokenize(context.lower()))\n",
    "            \n",
    "            # Calculate metrics\n",
    "            supported_tokens = answer_tokens.intersection(context_tokens)\n",
    "            hallucinated_tokens = answer_tokens - context_tokens\n",
    "            \n",
    "            if len(answer_tokens) == 0:\n",
    "                return {'faithfulness': 0, 'hallucination_rate': 1.0}\n",
    "            \n",
    "            faithfulness = len(supported_tokens) / len(answer_tokens)\n",
    "            hallucination_rate = len(hallucinated_tokens) / len(answer_tokens)\n",
    "            \n",
    "            return {\n",
    "                'faithfulness': faithfulness,\n",
    "                'hallucination_rate': hallucination_rate\n",
    "            }\n",
    "        except Exception as e:\n",
    "            self.logger.error(f\"Error calculating faithfulness: {str(e)}\")\n",
    "            return {'faithfulness': 0, 'hallucination_rate': 1.0}\n",
    "            \n",
    "    def calculate_coverage(self, answer: str, retrieved_docs: List[Dict]) -> float:\n",
    "        \"\"\"Calculate coverage using sentence embeddings similarity\"\"\"\n",
    "        try:\n",
    "            # Combine all retrieved documents\n",
    "            context = \" \".join([doc['content'] for doc in retrieved_docs])\n",
    "            \n",
    "            # Get embeddings\n",
    "            answer_emb = self.sim_model.encode([answer])\n",
    "            context_emb = self.sim_model.encode([context])\n",
    "            \n",
    "            # Calculate cosine similarity\n",
    "            similarity = torch.nn.functional.cosine_similarity(\n",
    "                torch.tensor(answer_emb), \n",
    "                torch.tensor(context_emb)\n",
    "            ).item()\n",
    "            \n",
    "            return float(similarity)\n",
    "        except Exception as e:\n",
    "            self.logger.error(f\"Error calculating coverage: {str(e)}\")\n",
    "            return 0.0\n",
    "            \n",
    "    def calculate_retrieval_metrics(self) -> Dict[str, float]:\n",
    "        \"\"\"Calculate average retrieval time and distance\"\"\"\n",
    "        times = []\n",
    "        distances = []\n",
    "        \n",
    "        for result in self.rag_results:\n",
    "            if result.get('retrieval_time'):\n",
    "                times.append(float(result['retrieval_time']))\n",
    "            if result.get('avg_distance'):\n",
    "                distances.append(float(result['avg_distance']))\n",
    "                \n",
    "        return {\n",
    "            'avg_retrieval_time': np.mean(times) if times else 0,\n",
    "            'avg_distance': np.mean(distances) if distances else 0\n",
    "        }\n",
    "        \n",
    "    def evaluate(self) -> Dict[str, Any]:\n",
    "        \"\"\"Run full evaluation\"\"\"\n",
    "        self.logger.info(\"Starting RAG evaluation...\")\n",
    "        \n",
    "        results = {\n",
    "            'per_query': [],\n",
    "            'aggregated': defaultdict(list)\n",
    "        }\n",
    "        \n",
    "        # Process each query\n",
    "        for rag_result in tqdm(self.rag_results, desc=\"Evaluating queries\"):\n",
    "            question = rag_result['question']\n",
    "            ground_truth = self.ground_truth_map.get(question)\n",
    "            \n",
    "            if not ground_truth:\n",
    "                self.logger.warning(f\"No ground truth found for question: {question[:50]}...\")\n",
    "                continue\n",
    "                \n",
    "            # Calculate metrics\n",
    "            text_metrics = self.calculate_text_metrics(\n",
    "                rag_result['answer'], \n",
    "                ground_truth\n",
    "            )\n",
    "            \n",
    "            faithfulness_metrics = self.calculate_faithfulness(\n",
    "                rag_result['answer'],\n",
    "                rag_result['retrieved_docs']\n",
    "            )\n",
    "            \n",
    "            coverage = self.calculate_coverage(\n",
    "                rag_result['answer'],\n",
    "                rag_result['retrieved_docs']\n",
    "            )\n",
    "            \n",
    "            # Store results\n",
    "            query_result = {\n",
    "                'question': question,\n",
    "                'metrics': {\n",
    "                    **text_metrics,\n",
    "                    **faithfulness_metrics,\n",
    "                    'coverage': coverage\n",
    "                }\n",
    "            }\n",
    "            \n",
    "            results['per_query'].append(query_result)\n",
    "            \n",
    "            # Aggregate metrics\n",
    "            for metric, value in query_result['metrics'].items():\n",
    "                results['aggregated'][metric].append(value)\n",
    "                \n",
    "            # Save checkpoint periodically\n",
    "            if len(results['per_query']) % 10 == 0:\n",
    "                self._save_checkpoint(results, 'evaluation')\n",
    "                \n",
    "        # Calculate retrieval metrics\n",
    "        retrieval_metrics = self.calculate_retrieval_metrics()\n",
    "        results['retrieval_metrics'] = retrieval_metrics\n",
    "        \n",
    "        # Calculate final aggregated metrics\n",
    "        results['final_metrics'] = {\n",
    "            metric: float(np.mean(values))\n",
    "            for metric, values in results['aggregated'].items()\n",
    "        }\n",
    "        \n",
    "        # Save final results\n",
    "        final_path = self.output_dir / \"evaluation_results.json\"\n",
    "        with open(final_path, 'w', encoding='utf-8') as f:\n",
    "            json.dump(results, f, indent=2)\n",
    "            \n",
    "        self.logger.info(\"Evaluation complete!\")\n",
    "        return results\n",
    "\n"
   ]
  },
  {
   "cell_type": "code",
   "execution_count": 21,
   "id": "a66598d4",
   "metadata": {
    "scrolled": true
   },
   "outputs": [
    {
     "name": "stderr",
     "output_type": "stream",
     "text": [
      "\r",
      "Evaluating queries:   0%|                                                                       | 0/40 [00:00<?, ?it/s]"
     ]
    },
    {
     "data": {
      "application/vnd.jupyter.widget-view+json": {
       "model_id": "72b6453f49a14e79a91d473c8d3ab1fb",
       "version_major": 2,
       "version_minor": 0
      },
      "text/plain": [
       "Batches:   0%|          | 0/1 [00:00<?, ?it/s]"
      ]
     },
     "metadata": {},
     "output_type": "display_data"
    },
    {
     "data": {
      "application/vnd.jupyter.widget-view+json": {
       "model_id": "8a395073be394df3bd38509261f552c7",
       "version_major": 2,
       "version_minor": 0
      },
      "text/plain": [
       "Batches:   0%|          | 0/1 [00:00<?, ?it/s]"
      ]
     },
     "metadata": {},
     "output_type": "display_data"
    },
    {
     "name": "stderr",
     "output_type": "stream",
     "text": [
      "\r",
      "Evaluating queries:   2%|█▌                                                             | 1/40 [00:00<00:14,  2.63it/s]"
     ]
    },
    {
     "data": {
      "application/vnd.jupyter.widget-view+json": {
       "model_id": "0113ff9650df4d42acc8522dd97c49b2",
       "version_major": 2,
       "version_minor": 0
      },
      "text/plain": [
       "Batches:   0%|          | 0/1 [00:00<?, ?it/s]"
      ]
     },
     "metadata": {},
     "output_type": "display_data"
    },
    {
     "data": {
      "application/vnd.jupyter.widget-view+json": {
       "model_id": "3741b6c45568428fb01931beece69e1a",
       "version_major": 2,
       "version_minor": 0
      },
      "text/plain": [
       "Batches:   0%|          | 0/1 [00:00<?, ?it/s]"
      ]
     },
     "metadata": {},
     "output_type": "display_data"
    },
    {
     "name": "stderr",
     "output_type": "stream",
     "text": [
      "\r",
      "Evaluating queries:   5%|███▏                                                           | 2/40 [00:00<00:15,  2.53it/s]"
     ]
    },
    {
     "data": {
      "application/vnd.jupyter.widget-view+json": {
       "model_id": "43d7e898eab94197bc877d401a55d1b8",
       "version_major": 2,
       "version_minor": 0
      },
      "text/plain": [
       "Batches:   0%|          | 0/1 [00:00<?, ?it/s]"
      ]
     },
     "metadata": {},
     "output_type": "display_data"
    },
    {
     "data": {
      "application/vnd.jupyter.widget-view+json": {
       "model_id": "00356096d1bc4f2196850b5a3b868ee4",
       "version_major": 2,
       "version_minor": 0
      },
      "text/plain": [
       "Batches:   0%|          | 0/1 [00:00<?, ?it/s]"
      ]
     },
     "metadata": {},
     "output_type": "display_data"
    },
    {
     "name": "stderr",
     "output_type": "stream",
     "text": [
      "\r",
      "Evaluating queries:   8%|████▋                                                          | 3/40 [00:01<00:15,  2.37it/s]"
     ]
    },
    {
     "data": {
      "application/vnd.jupyter.widget-view+json": {
       "model_id": "54532b51c68a4f6d85f0b053bcdc423b",
       "version_major": 2,
       "version_minor": 0
      },
      "text/plain": [
       "Batches:   0%|          | 0/1 [00:00<?, ?it/s]"
      ]
     },
     "metadata": {},
     "output_type": "display_data"
    },
    {
     "data": {
      "application/vnd.jupyter.widget-view+json": {
       "model_id": "f89118aa28f9480eb8a2e1214c2b1de2",
       "version_major": 2,
       "version_minor": 0
      },
      "text/plain": [
       "Batches:   0%|          | 0/1 [00:00<?, ?it/s]"
      ]
     },
     "metadata": {},
     "output_type": "display_data"
    },
    {
     "name": "stderr",
     "output_type": "stream",
     "text": [
      "\r",
      "Evaluating queries:  10%|██████▎                                                        | 4/40 [00:01<00:16,  2.22it/s]"
     ]
    },
    {
     "data": {
      "application/vnd.jupyter.widget-view+json": {
       "model_id": "2b2a26bd5e7a4d589dd817a8ebe87fc7",
       "version_major": 2,
       "version_minor": 0
      },
      "text/plain": [
       "Batches:   0%|          | 0/1 [00:00<?, ?it/s]"
      ]
     },
     "metadata": {},
     "output_type": "display_data"
    },
    {
     "data": {
      "application/vnd.jupyter.widget-view+json": {
       "model_id": "e632b8bc8fed4ab4bf6c4d04eb5027ed",
       "version_major": 2,
       "version_minor": 0
      },
      "text/plain": [
       "Batches:   0%|          | 0/1 [00:00<?, ?it/s]"
      ]
     },
     "metadata": {},
     "output_type": "display_data"
    },
    {
     "name": "stderr",
     "output_type": "stream",
     "text": [
      "Evaluating queries: 100%|██████████████████████████████████████████████████████████████| 40/40 [00:01<00:00, 20.03it/s]"
     ]
    },
    {
     "name": "stdout",
     "output_type": "stream",
     "text": [
      "\n",
      "Final Metrics:\n",
      "bleu: 0.0105\n",
      "rouge1_f: 0.1108\n",
      "rouge2_f: 0.0415\n",
      "rougeL_f: 0.0888\n",
      "faithfulness: 0.4880\n",
      "hallucination_rate: 0.5120\n",
      "coverage: 0.6806\n",
      "\n",
      "Retrieval Metrics:\n",
      "avg_retrieval_time: 6.8266\n",
      "avg_distance: 0.5459\n"
     ]
    },
    {
     "name": "stderr",
     "output_type": "stream",
     "text": [
      "\n"
     ]
    }
   ],
   "source": [
    "# Example usage:\n",
    "\n",
    "evaluator = RAGEvaluator(\n",
    "    ground_truth_path='ground_truth.json',\n",
    "    rag_results_path='hybrid_evaluation/qna_content.json',\n",
    "    output_dir='rag_evaluation'\n",
    ")\n",
    "results = evaluator.evaluate()\n",
    "\n",
    "# Print summary\n",
    "print(\"\\nFinal Metrics:\")\n",
    "for metric, value in results['final_metrics'].items():\n",
    "    print(f\"{metric}: {value:.4f}\")\n",
    "\n",
    "print(\"\\nRetrieval Metrics:\")\n",
    "for metric, value in results['retrieval_metrics'].items():\n",
    "    print(f\"{metric}: {value:.4f}\")\n"
   ]
  },
  {
   "cell_type": "code",
   "execution_count": null,
   "id": "52134652",
   "metadata": {},
   "outputs": [],
   "source": []
  },
  {
   "cell_type": "code",
   "execution_count": 22,
   "id": "08bb1860",
   "metadata": {},
   "outputs": [
    {
     "name": "stderr",
     "output_type": "stream",
     "text": [
      "\r",
      "Evaluating queries:   0%|                                                                       | 0/40 [00:00<?, ?it/s]"
     ]
    },
    {
     "data": {
      "application/vnd.jupyter.widget-view+json": {
       "model_id": "9b54519003c741e09e155c08dae1804b",
       "version_major": 2,
       "version_minor": 0
      },
      "text/plain": [
       "Batches:   0%|          | 0/1 [00:00<?, ?it/s]"
      ]
     },
     "metadata": {},
     "output_type": "display_data"
    },
    {
     "data": {
      "application/vnd.jupyter.widget-view+json": {
       "model_id": "68e85c46a9a247f691b2b922283d806d",
       "version_major": 2,
       "version_minor": 0
      },
      "text/plain": [
       "Batches:   0%|          | 0/1 [00:00<?, ?it/s]"
      ]
     },
     "metadata": {},
     "output_type": "display_data"
    },
    {
     "name": "stderr",
     "output_type": "stream",
     "text": [
      "\r",
      "Evaluating queries:   2%|█▌                                                             | 1/40 [00:00<00:10,  3.62it/s]"
     ]
    },
    {
     "data": {
      "application/vnd.jupyter.widget-view+json": {
       "model_id": "8496e6fb661742099ad2715530564687",
       "version_major": 2,
       "version_minor": 0
      },
      "text/plain": [
       "Batches:   0%|          | 0/1 [00:00<?, ?it/s]"
      ]
     },
     "metadata": {},
     "output_type": "display_data"
    },
    {
     "data": {
      "application/vnd.jupyter.widget-view+json": {
       "model_id": "b3239a814adf48afaab89c535618dd53",
       "version_major": 2,
       "version_minor": 0
      },
      "text/plain": [
       "Batches:   0%|          | 0/1 [00:00<?, ?it/s]"
      ]
     },
     "metadata": {},
     "output_type": "display_data"
    },
    {
     "name": "stderr",
     "output_type": "stream",
     "text": [
      "\r",
      "Evaluating queries:   5%|███▏                                                           | 2/40 [00:00<00:14,  2.67it/s]"
     ]
    },
    {
     "data": {
      "application/vnd.jupyter.widget-view+json": {
       "model_id": "e0bd2d94298c43e5b4b2e03c4281a28e",
       "version_major": 2,
       "version_minor": 0
      },
      "text/plain": [
       "Batches:   0%|          | 0/1 [00:00<?, ?it/s]"
      ]
     },
     "metadata": {},
     "output_type": "display_data"
    },
    {
     "data": {
      "application/vnd.jupyter.widget-view+json": {
       "model_id": "ed53b8af9a4646758a15738e2ec460fa",
       "version_major": 2,
       "version_minor": 0
      },
      "text/plain": [
       "Batches:   0%|          | 0/1 [00:00<?, ?it/s]"
      ]
     },
     "metadata": {},
     "output_type": "display_data"
    },
    {
     "name": "stderr",
     "output_type": "stream",
     "text": [
      "\r",
      "Evaluating queries:   8%|████▋                                                          | 3/40 [00:00<00:11,  3.14it/s]"
     ]
    },
    {
     "data": {
      "application/vnd.jupyter.widget-view+json": {
       "model_id": "bab091dd7c4e41c6a47df958f71587e4",
       "version_major": 2,
       "version_minor": 0
      },
      "text/plain": [
       "Batches:   0%|          | 0/1 [00:00<?, ?it/s]"
      ]
     },
     "metadata": {},
     "output_type": "display_data"
    },
    {
     "data": {
      "application/vnd.jupyter.widget-view+json": {
       "model_id": "0c99c401f5f2413e8b54b5249a1afc34",
       "version_major": 2,
       "version_minor": 0
      },
      "text/plain": [
       "Batches:   0%|          | 0/1 [00:00<?, ?it/s]"
      ]
     },
     "metadata": {},
     "output_type": "display_data"
    },
    {
     "name": "stderr",
     "output_type": "stream",
     "text": [
      "\r",
      "Evaluating queries:  10%|██████▎                                                        | 4/40 [00:01<00:10,  3.36it/s]"
     ]
    },
    {
     "data": {
      "application/vnd.jupyter.widget-view+json": {
       "model_id": "1f12ef006fc9417696b2be747056c05d",
       "version_major": 2,
       "version_minor": 0
      },
      "text/plain": [
       "Batches:   0%|          | 0/1 [00:00<?, ?it/s]"
      ]
     },
     "metadata": {},
     "output_type": "display_data"
    },
    {
     "data": {
      "application/vnd.jupyter.widget-view+json": {
       "model_id": "9eb1cbcb800f4ce48a41fb063e9c6f2e",
       "version_major": 2,
       "version_minor": 0
      },
      "text/plain": [
       "Batches:   0%|          | 0/1 [00:00<?, ?it/s]"
      ]
     },
     "metadata": {},
     "output_type": "display_data"
    },
    {
     "name": "stderr",
     "output_type": "stream",
     "text": [
      "Evaluating queries: 100%|██████████████████████████████████████████████████████████████| 40/40 [00:01<00:00, 26.36it/s]"
     ]
    },
    {
     "name": "stdout",
     "output_type": "stream",
     "text": [
      "\n",
      "Final Metrics:\n",
      "bleu: 0.0040\n",
      "rouge1_f: 0.0992\n",
      "rouge2_f: 0.0214\n",
      "rougeL_f: 0.0933\n",
      "faithfulness: 0.4555\n",
      "hallucination_rate: 0.5445\n",
      "coverage: 0.0342\n",
      "\n",
      "Retrieval Metrics:\n",
      "avg_retrieval_time: 5.8719\n",
      "avg_distance: 0.7510\n"
     ]
    },
    {
     "name": "stderr",
     "output_type": "stream",
     "text": [
      "\n"
     ]
    }
   ],
   "source": [
    "# Example usage:\n",
    "\n",
    "evaluator = RAGEvaluator(\n",
    "    ground_truth_path='ground_truth.json',\n",
    "    rag_results_path='hybrid_evaluation/qna_combined.json',\n",
    "    output_dir='rag_evaluation'\n",
    ")\n",
    "results = evaluator.evaluate()\n",
    "\n",
    "# Print summary\n",
    "print(\"\\nFinal Metrics:\")\n",
    "for metric, value in results['final_metrics'].items():\n",
    "    print(f\"{metric}: {value:.4f}\")\n",
    "\n",
    "print(\"\\nRetrieval Metrics:\")\n",
    "for metric, value in results['retrieval_metrics'].items():\n",
    "    print(f\"{metric}: {value:.4f}\")\n"
   ]
  },
  {
   "cell_type": "code",
   "execution_count": 8,
   "id": "b84e30ce",
   "metadata": {},
   "outputs": [],
   "source": [
    "import json\n",
    "from pathlib import Path\n",
    "from typing import Dict, List, Any\n",
    "import logging\n",
    "\n",
    "class RAGResultsPreprocessor:\n",
    "    def __init__(self, input_path: str, output_dir: str = \"preprocessed_data\"):\n",
    "        \"\"\"Initialize preprocessor with paths\"\"\"\n",
    "        self.input_path = Path(input_path)\n",
    "        self.output_dir = Path(output_dir)\n",
    "        self.output_dir.mkdir(exist_ok=True)\n",
    "        \n",
    "        # Setup logging\n",
    "        logging.basicConfig(\n",
    "            filename=self.output_dir / 'preprocessing.log',\n",
    "            level=logging.INFO,\n",
    "            format='%(asctime)s - %(levelname)s - %(message)s'\n",
    "        )\n",
    "        self.logger = logging.getLogger(__name__)\n",
    "    \n",
    "    def _load_json(self, path: str) -> List[Dict]:\n",
    "        \"\"\"Load JSON file with error handling\"\"\"\n",
    "        try:\n",
    "            with open(path, 'r', encoding='utf-8') as f:\n",
    "                return json.load(f)\n",
    "        except Exception as e:\n",
    "            self.logger.error(f\"Error loading {path}: {str(e)}\")\n",
    "            raise\n",
    "    \n",
    "    def _extract_qa_pairs(self, data: List[Dict]) -> List[Dict]:\n",
    "        \"\"\"Extract just Q&A pairs for ground truth\"\"\"\n",
    "        qa_pairs = []\n",
    "        for item in data:\n",
    "            try:\n",
    "                qa_pairs.append({\n",
    "                    'question': item['question'],\n",
    "                    'answer': item['answer'].split('###')[0].strip()  # Take only the main answer, before any headers\n",
    "                })\n",
    "            except Exception as e:\n",
    "                self.logger.warning(f\"Error processing QA pair: {str(e)}\")\n",
    "                continue\n",
    "        return qa_pairs\n",
    "    \n",
    "    def _extract_rag_results(self, data: List[Dict]) -> List[Dict]:\n",
    "        \"\"\"Extract RAG results in the expected format\"\"\"\n",
    "        rag_results = []\n",
    "        for item in data:\n",
    "            try:\n",
    "                result = {\n",
    "                    'question': item['question'],\n",
    "                    'answer': item.get('answer', ''),\n",
    "                    'retrieval_time': float(item.get('retrieval_time', 0)),\n",
    "                    'avg_distance': float(item.get('avg_distance', 1.0)),\n",
    "                    'retrieved_docs': []\n",
    "                }\n",
    "                \n",
    "                # Process retrieved docs if present\n",
    "                if 'retrieved_docs' in item:\n",
    "                    for doc in item['retrieved_docs']:\n",
    "                        result['retrieved_docs'].append({\n",
    "                            'content': str(doc.get('content', '')),\n",
    "                            'distance': float(doc.get('distance', 1.0)),\n",
    "                            'chunk_id': str(doc.get('chunk_id', ''))\n",
    "                        })\n",
    "                \n",
    "                rag_results.append(result)\n",
    "            except Exception as e:\n",
    "                self.logger.warning(f\"Error processing RAG result: {str(e)}\")\n",
    "                continue\n",
    "        \n",
    "        return rag_results\n",
    "    \n",
    "    def preprocess(self) -> Dict[str, str]:\n",
    "        \"\"\"Preprocess the data and save both ground truth and RAG results\"\"\"\n",
    "        try:\n",
    "            # Load input data\n",
    "            data = self._load_json(self.input_path)\n",
    "            self.logger.info(f\"Loaded {len(data)} items from {self.input_path}\")\n",
    "            \n",
    "            # Extract and save ground truth\n",
    "            qa_pairs = self._extract_qa_pairs(data)\n",
    "            ground_truth_path = self.output_dir / \"ground_truth.json\"\n",
    "            with open(ground_truth_path, 'w', encoding='utf-8') as f:\n",
    "                json.dump(qa_pairs, f, indent=2, ensure_ascii=False)\n",
    "            self.logger.info(f\"Saved {len(qa_pairs)} QA pairs to {ground_truth_path}\")\n",
    "            \n",
    "            # Extract and save RAG results\n",
    "            rag_results = self._extract_rag_results(data)\n",
    "            rag_results_path = self.output_dir / \"rag_results.json\"\n",
    "            with open(rag_results_path, 'w', encoding='utf-8') as f:\n",
    "                json.dump(rag_results, f, indent=2, ensure_ascii=False)\n",
    "            self.logger.info(f\"Saved {len(rag_results)} RAG results to {rag_results_path}\")\n",
    "            \n",
    "            return {\n",
    "                'ground_truth_path': str(ground_truth_path),\n",
    "                'rag_results_path': str(rag_results_path)\n",
    "            }\n",
    "            \n",
    "        except Exception as e:\n",
    "            self.logger.error(f\"Error during preprocessing: {str(e)}\")\n",
    "            raise\n",
    "\n"
   ]
  },
  {
   "cell_type": "code",
   "execution_count": 9,
   "id": "a5698564",
   "metadata": {},
   "outputs": [
    {
     "name": "stderr",
     "output_type": "stream",
     "text": [
      "[nltk_data] Downloading package punkt to\n",
      "[nltk_data]     C:\\Users\\prana\\AppData\\Roaming\\nltk_data...\n",
      "[nltk_data]   Package punkt is already up-to-date!\n",
      "[nltk_data] Downloading package wordnet to\n",
      "[nltk_data]     C:\\Users\\prana\\AppData\\Roaming\\nltk_data...\n",
      "[nltk_data]   Package wordnet is already up-to-date!\n",
      "Evaluating queries:   0%|                                                                       | 0/40 [00:00<?, ?it/s]Some weights of RobertaModel were not initialized from the model checkpoint at roberta-large and are newly initialized: ['roberta.pooler.dense.bias', 'roberta.pooler.dense.weight']\n",
      "You should probably TRAIN this model on a down-stream task to be able to use it for predictions and inference.\n",
      "Evaluating queries:   2%|█▌                                                             | 1/40 [00:07<04:40,  7.20s/it]Some weights of RobertaModel were not initialized from the model checkpoint at roberta-large and are newly initialized: ['roberta.pooler.dense.bias', 'roberta.pooler.dense.weight']\n",
      "You should probably TRAIN this model on a down-stream task to be able to use it for predictions and inference.\n",
      "Evaluating queries:   5%|███▏                                                           | 2/40 [00:13<04:02,  6.38s/it]Some weights of RobertaModel were not initialized from the model checkpoint at roberta-large and are newly initialized: ['roberta.pooler.dense.bias', 'roberta.pooler.dense.weight']\n",
      "You should probably TRAIN this model on a down-stream task to be able to use it for predictions and inference.\n",
      "Evaluating queries:   8%|████▋                                                          | 3/40 [00:19<03:57,  6.43s/it]Some weights of RobertaModel were not initialized from the model checkpoint at roberta-large and are newly initialized: ['roberta.pooler.dense.bias', 'roberta.pooler.dense.weight']\n",
      "You should probably TRAIN this model on a down-stream task to be able to use it for predictions and inference.\n",
      "Evaluating queries:  10%|██████▎                                                        | 4/40 [00:25<03:51,  6.43s/it]Some weights of RobertaModel were not initialized from the model checkpoint at roberta-large and are newly initialized: ['roberta.pooler.dense.bias', 'roberta.pooler.dense.weight']\n",
      "You should probably TRAIN this model on a down-stream task to be able to use it for predictions and inference.\n",
      "Evaluating queries:  12%|███████▉                                                       | 5/40 [00:32<03:47,  6.51s/it]Some weights of RobertaModel were not initialized from the model checkpoint at roberta-large and are newly initialized: ['roberta.pooler.dense.bias', 'roberta.pooler.dense.weight']\n",
      "You should probably TRAIN this model on a down-stream task to be able to use it for predictions and inference.\n",
      "Evaluating queries:  15%|█████████▍                                                     | 6/40 [00:39<03:49,  6.74s/it]Some weights of RobertaModel were not initialized from the model checkpoint at roberta-large and are newly initialized: ['roberta.pooler.dense.bias', 'roberta.pooler.dense.weight']\n",
      "You should probably TRAIN this model on a down-stream task to be able to use it for predictions and inference.\n",
      "Evaluating queries:  18%|███████████                                                    | 7/40 [00:47<03:57,  7.19s/it]Some weights of RobertaModel were not initialized from the model checkpoint at roberta-large and are newly initialized: ['roberta.pooler.dense.bias', 'roberta.pooler.dense.weight']\n",
      "You should probably TRAIN this model on a down-stream task to be able to use it for predictions and inference.\n",
      "Evaluating queries:  20%|████████████▌                                                  | 8/40 [00:54<03:44,  7.03s/it]Some weights of RobertaModel were not initialized from the model checkpoint at roberta-large and are newly initialized: ['roberta.pooler.dense.bias', 'roberta.pooler.dense.weight']\n",
      "You should probably TRAIN this model on a down-stream task to be able to use it for predictions and inference.\n",
      "Evaluating queries:  22%|██████████████▏                                                | 9/40 [01:00<03:24,  6.60s/it]Some weights of RobertaModel were not initialized from the model checkpoint at roberta-large and are newly initialized: ['roberta.pooler.dense.bias', 'roberta.pooler.dense.weight']\n",
      "You should probably TRAIN this model on a down-stream task to be able to use it for predictions and inference.\n",
      "Evaluating queries:  25%|███████████████▌                                              | 10/40 [01:06<03:12,  6.41s/it]Some weights of RobertaModel were not initialized from the model checkpoint at roberta-large and are newly initialized: ['roberta.pooler.dense.bias', 'roberta.pooler.dense.weight']\n",
      "You should probably TRAIN this model on a down-stream task to be able to use it for predictions and inference.\n",
      "Evaluating queries:  28%|█████████████████                                             | 11/40 [01:11<02:59,  6.20s/it]Some weights of RobertaModel were not initialized from the model checkpoint at roberta-large and are newly initialized: ['roberta.pooler.dense.bias', 'roberta.pooler.dense.weight']\n",
      "You should probably TRAIN this model on a down-stream task to be able to use it for predictions and inference.\n",
      "Evaluating queries:  30%|██████████████████▌                                           | 12/40 [01:18<02:52,  6.17s/it]Some weights of RobertaModel were not initialized from the model checkpoint at roberta-large and are newly initialized: ['roberta.pooler.dense.bias', 'roberta.pooler.dense.weight']\n",
      "You should probably TRAIN this model on a down-stream task to be able to use it for predictions and inference.\n",
      "Evaluating queries:  32%|████████████████████▏                                         | 13/40 [01:24<02:50,  6.32s/it]Some weights of RobertaModel were not initialized from the model checkpoint at roberta-large and are newly initialized: ['roberta.pooler.dense.bias', 'roberta.pooler.dense.weight']\n",
      "You should probably TRAIN this model on a down-stream task to be able to use it for predictions and inference.\n",
      "Evaluating queries:  35%|█████████████████████▋                                        | 14/40 [01:30<02:39,  6.13s/it]Some weights of RobertaModel were not initialized from the model checkpoint at roberta-large and are newly initialized: ['roberta.pooler.dense.bias', 'roberta.pooler.dense.weight']\n",
      "You should probably TRAIN this model on a down-stream task to be able to use it for predictions and inference.\n",
      "Evaluating queries:  38%|███████████████████████▎                                      | 15/40 [01:36<02:31,  6.08s/it]Some weights of RobertaModel were not initialized from the model checkpoint at roberta-large and are newly initialized: ['roberta.pooler.dense.bias', 'roberta.pooler.dense.weight']\n",
      "You should probably TRAIN this model on a down-stream task to be able to use it for predictions and inference.\n",
      "Evaluating queries:  40%|████████████████████████▊                                     | 16/40 [01:42<02:26,  6.09s/it]Some weights of RobertaModel were not initialized from the model checkpoint at roberta-large and are newly initialized: ['roberta.pooler.dense.bias', 'roberta.pooler.dense.weight']\n",
      "You should probably TRAIN this model on a down-stream task to be able to use it for predictions and inference.\n",
      "Evaluating queries:  42%|██████████████████████████▎                                   | 17/40 [01:48<02:20,  6.12s/it]Some weights of RobertaModel were not initialized from the model checkpoint at roberta-large and are newly initialized: ['roberta.pooler.dense.bias', 'roberta.pooler.dense.weight']\n",
      "You should probably TRAIN this model on a down-stream task to be able to use it for predictions and inference.\n",
      "Evaluating queries:  45%|███████████████████████████▉                                  | 18/40 [01:55<02:19,  6.34s/it]Some weights of RobertaModel were not initialized from the model checkpoint at roberta-large and are newly initialized: ['roberta.pooler.dense.bias', 'roberta.pooler.dense.weight']\n",
      "You should probably TRAIN this model on a down-stream task to be able to use it for predictions and inference.\n",
      "Evaluating queries:  48%|█████████████████████████████▍                                | 19/40 [02:01<02:10,  6.21s/it]Some weights of RobertaModel were not initialized from the model checkpoint at roberta-large and are newly initialized: ['roberta.pooler.dense.bias', 'roberta.pooler.dense.weight']\n",
      "You should probably TRAIN this model on a down-stream task to be able to use it for predictions and inference.\n",
      "Evaluating queries:  50%|███████████████████████████████                               | 20/40 [02:06<01:59,  5.97s/it]Some weights of RobertaModel were not initialized from the model checkpoint at roberta-large and are newly initialized: ['roberta.pooler.dense.bias', 'roberta.pooler.dense.weight']\n",
      "You should probably TRAIN this model on a down-stream task to be able to use it for predictions and inference.\n",
      "Evaluating queries:  52%|████████████████████████████████▌                             | 21/40 [02:13<01:57,  6.19s/it]Some weights of RobertaModel were not initialized from the model checkpoint at roberta-large and are newly initialized: ['roberta.pooler.dense.bias', 'roberta.pooler.dense.weight']\n",
      "You should probably TRAIN this model on a down-stream task to be able to use it for predictions and inference.\n",
      "Evaluating queries:  55%|██████████████████████████████████                            | 22/40 [02:21<02:01,  6.73s/it]Some weights of RobertaModel were not initialized from the model checkpoint at roberta-large and are newly initialized: ['roberta.pooler.dense.bias', 'roberta.pooler.dense.weight']\n",
      "You should probably TRAIN this model on a down-stream task to be able to use it for predictions and inference.\n",
      "Evaluating queries:  57%|███████████████████████████████████▋                          | 23/40 [02:26<01:47,  6.35s/it]Some weights of RobertaModel were not initialized from the model checkpoint at roberta-large and are newly initialized: ['roberta.pooler.dense.bias', 'roberta.pooler.dense.weight']\n",
      "You should probably TRAIN this model on a down-stream task to be able to use it for predictions and inference.\n",
      "Evaluating queries:  60%|█████████████████████████████████████▏                        | 24/40 [02:33<01:42,  6.39s/it]Some weights of RobertaModel were not initialized from the model checkpoint at roberta-large and are newly initialized: ['roberta.pooler.dense.bias', 'roberta.pooler.dense.weight']\n",
      "You should probably TRAIN this model on a down-stream task to be able to use it for predictions and inference.\n",
      "Evaluating queries:  62%|██████████████████████████████████████▊                       | 25/40 [02:39<01:34,  6.30s/it]Some weights of RobertaModel were not initialized from the model checkpoint at roberta-large and are newly initialized: ['roberta.pooler.dense.bias', 'roberta.pooler.dense.weight']\n",
      "You should probably TRAIN this model on a down-stream task to be able to use it for predictions and inference.\n",
      "Evaluating queries:  65%|████████████████████████████████████████▎                     | 26/40 [02:45<01:24,  6.06s/it]Some weights of RobertaModel were not initialized from the model checkpoint at roberta-large and are newly initialized: ['roberta.pooler.dense.bias', 'roberta.pooler.dense.weight']\n",
      "You should probably TRAIN this model on a down-stream task to be able to use it for predictions and inference.\n",
      "Evaluating queries:  68%|█████████████████████████████████████████▊                    | 27/40 [02:51<01:21,  6.29s/it]Some weights of RobertaModel were not initialized from the model checkpoint at roberta-large and are newly initialized: ['roberta.pooler.dense.bias', 'roberta.pooler.dense.weight']\n",
      "You should probably TRAIN this model on a down-stream task to be able to use it for predictions and inference.\n",
      "Evaluating queries:  70%|███████████████████████████████████████████▍                  | 28/40 [02:58<01:15,  6.31s/it]Some weights of RobertaModel were not initialized from the model checkpoint at roberta-large and are newly initialized: ['roberta.pooler.dense.bias', 'roberta.pooler.dense.weight']\n",
      "You should probably TRAIN this model on a down-stream task to be able to use it for predictions and inference.\n",
      "Evaluating queries:  72%|████████████████████████████████████████████▉                 | 29/40 [03:04<01:07,  6.16s/it]Some weights of RobertaModel were not initialized from the model checkpoint at roberta-large and are newly initialized: ['roberta.pooler.dense.bias', 'roberta.pooler.dense.weight']\n",
      "You should probably TRAIN this model on a down-stream task to be able to use it for predictions and inference.\n",
      "Evaluating queries:  75%|██████████████████████████████████████████████▌               | 30/40 [03:09<01:00,  6.09s/it]Some weights of RobertaModel were not initialized from the model checkpoint at roberta-large and are newly initialized: ['roberta.pooler.dense.bias', 'roberta.pooler.dense.weight']\n",
      "You should probably TRAIN this model on a down-stream task to be able to use it for predictions and inference.\n",
      "Evaluating queries:  78%|████████████████████████████████████████████████              | 31/40 [03:15<00:53,  5.89s/it]Some weights of RobertaModel were not initialized from the model checkpoint at roberta-large and are newly initialized: ['roberta.pooler.dense.bias', 'roberta.pooler.dense.weight']\n",
      "You should probably TRAIN this model on a down-stream task to be able to use it for predictions and inference.\n",
      "Evaluating queries:  80%|█████████████████████████████████████████████████▌            | 32/40 [03:21<00:46,  5.87s/it]Some weights of RobertaModel were not initialized from the model checkpoint at roberta-large and are newly initialized: ['roberta.pooler.dense.bias', 'roberta.pooler.dense.weight']\n",
      "You should probably TRAIN this model on a down-stream task to be able to use it for predictions and inference.\n",
      "Evaluating queries:  82%|███████████████████████████████████████████████████▏          | 33/40 [03:26<00:40,  5.79s/it]Some weights of RobertaModel were not initialized from the model checkpoint at roberta-large and are newly initialized: ['roberta.pooler.dense.bias', 'roberta.pooler.dense.weight']\n",
      "You should probably TRAIN this model on a down-stream task to be able to use it for predictions and inference.\n",
      "Evaluating queries:  85%|████████████████████████████████████████████████████▋         | 34/40 [03:31<00:33,  5.60s/it]Some weights of RobertaModel were not initialized from the model checkpoint at roberta-large and are newly initialized: ['roberta.pooler.dense.bias', 'roberta.pooler.dense.weight']\n",
      "You should probably TRAIN this model on a down-stream task to be able to use it for predictions and inference.\n",
      "Evaluating queries:  88%|██████████████████████████████████████████████████████▎       | 35/40 [03:37<00:28,  5.63s/it]Some weights of RobertaModel were not initialized from the model checkpoint at roberta-large and are newly initialized: ['roberta.pooler.dense.bias', 'roberta.pooler.dense.weight']\n",
      "You should probably TRAIN this model on a down-stream task to be able to use it for predictions and inference.\n",
      "Evaluating queries:  90%|███████████████████████████████████████████████████████▊      | 36/40 [03:44<00:23,  5.98s/it]Some weights of RobertaModel were not initialized from the model checkpoint at roberta-large and are newly initialized: ['roberta.pooler.dense.bias', 'roberta.pooler.dense.weight']\n",
      "You should probably TRAIN this model on a down-stream task to be able to use it for predictions and inference.\n",
      "Evaluating queries:  92%|█████████████████████████████████████████████████████████▎    | 37/40 [03:49<00:17,  5.69s/it]Some weights of RobertaModel were not initialized from the model checkpoint at roberta-large and are newly initialized: ['roberta.pooler.dense.bias', 'roberta.pooler.dense.weight']\n",
      "You should probably TRAIN this model on a down-stream task to be able to use it for predictions and inference.\n",
      "Evaluating queries:  95%|██████████████████████████████████████████████████████████▉   | 38/40 [03:54<00:11,  5.53s/it]Some weights of RobertaModel were not initialized from the model checkpoint at roberta-large and are newly initialized: ['roberta.pooler.dense.bias', 'roberta.pooler.dense.weight']\n",
      "You should probably TRAIN this model on a down-stream task to be able to use it for predictions and inference.\n"
     ]
    },
    {
     "name": "stderr",
     "output_type": "stream",
     "text": [
      "Evaluating queries:  98%|████████████████████████████████████████████████████████████▍ | 39/40 [03:59<00:05,  5.44s/it]Some weights of RobertaModel were not initialized from the model checkpoint at roberta-large and are newly initialized: ['roberta.pooler.dense.bias', 'roberta.pooler.dense.weight']\n",
      "You should probably TRAIN this model on a down-stream task to be able to use it for predictions and inference.\n",
      "Evaluating queries: 100%|██████████████████████████████████████████████████████████████| 40/40 [04:05<00:00,  6.14s/it]\n"
     ]
    }
   ],
   "source": [
    "# Example usage:\n",
    "\n",
    "# Initialize preprocessor\n",
    "preprocessor = RAGResultsPreprocessor(\n",
    "    input_path='hybrid_evaluation/qna_hybrid.json',\n",
    "    output_dir='preprocessed_data'\n",
    ")\n",
    "\n",
    "# Preprocess data\n",
    "paths = preprocessor.preprocess()\n",
    "\n",
    "# Use the preprocessed data with the evaluator\n",
    "evaluator = RAGEvaluator(\n",
    "    ground_truth_path=paths['ground_truth_path'],\n",
    "    rag_results_path=paths['rag_results_path'],\n",
    "    output_dir='rag_evaluation'\n",
    ")\n",
    "results = evaluator.evaluate()\n"
   ]
  },
  {
   "cell_type": "code",
   "execution_count": 10,
   "id": "25606ff2",
   "metadata": {},
   "outputs": [
    {
     "name": "stdout",
     "output_type": "stream",
     "text": [
      "\n",
      "Final Metrics:\n",
      "bleu: 0.3026\n",
      "rouge1_f: 0.3608\n",
      "rouge2_f: 0.3593\n",
      "rougeL_f: 0.3608\n",
      "faithfulness: 0.4075\n",
      "hallucination_rate: 0.5925\n",
      "coverage: 0.8204\n",
      "\n",
      "Retrieval Metrics:\n",
      "avg_retrieval_time: 14.1316\n",
      "avg_distance: 0.8642\n"
     ]
    }
   ],
   "source": [
    "# Print summary\n",
    "print(\"\\nFinal Metrics:\")\n",
    "for metric, value in results['final_metrics'].items():\n",
    "    print(f\"{metric}: {value:.4f}\")\n",
    "\n",
    "print(\"\\nRetrieval Metrics:\")\n",
    "for metric, value in results['retrieval_metrics'].items():\n",
    "    print(f\"{metric}: {value:.4f}\")"
   ]
  },
  {
   "cell_type": "markdown",
   "id": "b0b978ab",
   "metadata": {},
   "source": [
    "# Hallucination n Faithfullness"
   ]
  },
  {
   "cell_type": "markdown",
   "id": "54476a51",
   "metadata": {},
   "source": [
    "### by measuring the RAG answer against retreived chunks"
   ]
  },
  {
   "cell_type": "code",
   "execution_count": 1,
   "id": "fde6762c",
   "metadata": {},
   "outputs": [
    {
     "name": "stderr",
     "output_type": "stream",
     "text": [
      "C:\\Users\\prana\\anaconda3\\Lib\\site-packages\\sentence_transformers\\cross_encoder\\CrossEncoder.py:13: TqdmExperimentalWarning: Using `tqdm.autonotebook.tqdm` in notebook mode. Use `tqdm.tqdm` instead to force console mode (e.g. in jupyter console)\n",
      "  from tqdm.autonotebook import tqdm, trange\n"
     ]
    }
   ],
   "source": [
    "import json\n",
    "import nltk\n",
    "from nltk.tokenize import word_tokenize\n",
    "from pathlib import Path\n",
    "import logging\n",
    "from typing import Dict, List, Set\n",
    "from tqdm import tqdm\n",
    "import torch\n",
    "from sentence_transformers import SentenceTransformer\n",
    "\n",
    "class FaithfulnessCalculator:\n",
    "    def __init__(self, rag_results_path: str):\n",
    "        \"\"\"Initialize calculator with path to RAG results\"\"\"\n",
    "        self.rag_results_path = Path(rag_results_path)\n",
    "        \n",
    "        # Setup logging\n",
    "        logging.basicConfig(\n",
    "            level=logging.INFO,\n",
    "            format='%(asctime)s - %(levelname)s - %(message)s'\n",
    "        )\n",
    "        self.logger = logging.getLogger(__name__)\n",
    "        \n",
    "        self.sim_model = SentenceTransformer('all-MiniLM-L6-v2')\n",
    "        \n",
    "        # Initialize NLTK\n",
    "        try:\n",
    "            nltk.download('punkt', quiet=True)\n",
    "        except Exception as e:\n",
    "            self.logger.warning(f\"NLTK download error: {str(e)}\")\n",
    "        \n",
    "        # Common words to ignore\n",
    "        self.stop_words = set(['i', 'cannot', 'find', 'the', 'answer', 'in', 'provided', 'context', \n",
    "                             'a', 'an', 'and', 'are', 'as', 'at', 'be', 'by', 'for', 'has', 'he',\n",
    "                             'in', 'is', 'it', 'its', 'of', 'on', 'that', 'the', 'to', 'was', \n",
    "                             'were', 'will', 'with', '.', ',', ':', ';', '(', ')', '[', ']'])\n",
    "        \n",
    "    def clean_text(self, text: str) -> Set[str]:\n",
    "        \"\"\"Clean and tokenize text, returning set of meaningful tokens\"\"\"\n",
    "        # Convert to lowercase and tokenize\n",
    "        tokens = word_tokenize(text.lower())\n",
    "        \n",
    "        # Remove stop words and punctuation, keep only meaningful words\n",
    "        return {token for token in tokens \n",
    "                if token not in self.stop_words \n",
    "                and token.isalnum() \n",
    "                and len(token) > 1}  # Filter out single characters\n",
    "    \n",
    "    def calculate_metrics_for_response(self, \n",
    "                                     answer: str, \n",
    "                                     retrieved_docs: List[Dict]) -> Dict[str, float]:\n",
    "        \"\"\"Calculate faithfulness metrics for a single response\"\"\"\n",
    "        # Handle \"cannot find answer\" case\n",
    "        if \"cannot find the answer in the provided context\" in answer.lower():\n",
    "            return {\n",
    "                'faithfulness': 1.0,\n",
    "                'hallucination_rate': 0.0,\n",
    "                'supported_tokens': set(),\n",
    "                'unsupported_tokens': set()\n",
    "            }\n",
    "\n",
    "        # Get answer tokens\n",
    "        answer_tokens = self.clean_text(answer)\n",
    "        \n",
    "        # Get context tokens from all retrieved docs\n",
    "        context = \" \".join(doc['content'] for doc in retrieved_docs)\n",
    "        context_tokens = self.clean_text(context)\n",
    "        \n",
    "        # Calculate supported and unsupported tokens\n",
    "        supported_tokens = answer_tokens.intersection(context_tokens)\n",
    "        unsupported_tokens = answer_tokens - context_tokens\n",
    "        \n",
    "        # Calculate metrics\n",
    "        total_tokens = len(answer_tokens) if answer_tokens else 1\n",
    "        faithfulness = len(supported_tokens) / total_tokens\n",
    "        hallucination_rate = len(unsupported_tokens) / total_tokens\n",
    "        \n",
    "        return {\n",
    "            'faithfulness': faithfulness,\n",
    "            'hallucination_rate': hallucination_rate,\n",
    "            'supported_tokens': supported_tokens,\n",
    "            'unsupported_tokens': unsupported_tokens\n",
    "        }\n",
    "    \n",
    "    def calculate_coverage(self, answer: str, retrieved_docs: List[Dict]) -> float:\n",
    "        answer_tokens = set(word_tokenize(answer.lower()))\n",
    "        coverage_scores = []\n",
    "\n",
    "        for doc in retrieved_docs:\n",
    "            doc_tokens = set(word_tokenize(doc['content'].lower()))\n",
    "            score = len(answer_tokens.intersection(doc_tokens)) / len(answer_tokens)\n",
    "            coverage_scores.append(score * doc.get('score', 1.0))  # Weight by relevance\n",
    "        \n",
    "        return max(coverage_scores) if coverage_scores else 0.0\n",
    "    \n",
    "    def analyze_rag_results(self) -> Dict:\n",
    "        try:\n",
    "            with open(self.rag_results_path, 'r', encoding='utf-8') as f:\n",
    "                rag_results = json.load(f)\n",
    "\n",
    "            self.logger.info(f\"Loaded {len(rag_results)} RAG results\")\n",
    "\n",
    "            total_faithfulness = 0\n",
    "            total_hallucination = 0\n",
    "            total_coverage = 0\n",
    "            results_with_details = []\n",
    "\n",
    "            for result in tqdm(rag_results, desc=\"Analyzing responses\"):\n",
    "                metrics = self.calculate_metrics_for_response(\n",
    "                    result['answer'],\n",
    "                    result.get('retrieved_docs', [])\n",
    "                )\n",
    "\n",
    "                coverage = self.calculate_coverage(\n",
    "                    result['answer'], \n",
    "                    result.get('retrieved_docs', [])\n",
    "                )\n",
    "\n",
    "                total_faithfulness += metrics['faithfulness']\n",
    "                total_hallucination += metrics['hallucination_rate']\n",
    "                total_coverage += coverage\n",
    "\n",
    "                results_with_details.append({\n",
    "                    'question': result['question'],\n",
    "                    'metrics': {\n",
    "                        'faithfulness': metrics['faithfulness'],\n",
    "                        'hallucination_rate': metrics['hallucination_rate'],\n",
    "                        'supported_count': len(metrics['supported_tokens']),\n",
    "                        'unsupported_count': len(metrics['unsupported_tokens']),\n",
    "                        'coverage': coverage\n",
    "                    }\n",
    "                })\n",
    "\n",
    "            num_results = len(rag_results)\n",
    "            avg_metrics = {\n",
    "                'average_faithfulness': total_faithfulness / num_results,\n",
    "                'average_hallucination': total_hallucination / num_results,\n",
    "                'average_coverage': total_coverage / num_results\n",
    "            }\n",
    "\n",
    "            self.logger.info(f\"Average Faithfulness: {avg_metrics['average_faithfulness']:.4f}\")\n",
    "            self.logger.info(f\"Average Hallucination: {avg_metrics['average_hallucination']:.4f}\")\n",
    "            self.logger.info(f\"Average Coverage: {avg_metrics['average_coverage']:.4f}\")\n",
    "\n",
    "            return {\n",
    "                'summary': avg_metrics,\n",
    "                'detailed_results': results_with_details\n",
    "            }\n",
    "\n",
    "        except Exception as e:\n",
    "            self.logger.error(f\"Error analyzing RAG results: {str(e)}\")\n",
    "            raise\n",
    "\n"
   ]
  },
  {
   "cell_type": "code",
   "execution_count": 27,
   "id": "71e3fb35",
   "metadata": {},
   "outputs": [
    {
     "name": "stderr",
     "output_type": "stream",
     "text": [
      "\r",
      "Analyzing responses:   0%|                                                                      | 0/40 [00:00<?, ?it/s]"
     ]
    },
    {
     "data": {
      "application/vnd.jupyter.widget-view+json": {
       "model_id": "c5513fdc49654de195a173977a7fc213",
       "version_major": 2,
       "version_minor": 0
      },
      "text/plain": [
       "Batches:   0%|          | 0/1 [00:00<?, ?it/s]"
      ]
     },
     "metadata": {},
     "output_type": "display_data"
    },
    {
     "data": {
      "application/vnd.jupyter.widget-view+json": {
       "model_id": "997082f8ea1f4348a3a875248c9c0f83",
       "version_major": 2,
       "version_minor": 0
      },
      "text/plain": [
       "Batches:   0%|          | 0/1 [00:00<?, ?it/s]"
      ]
     },
     "metadata": {},
     "output_type": "display_data"
    },
    {
     "name": "stderr",
     "output_type": "stream",
     "text": [
      "\r",
      "Analyzing responses:   2%|█▌                                                            | 1/40 [00:00<00:08,  4.35it/s]"
     ]
    },
    {
     "data": {
      "application/vnd.jupyter.widget-view+json": {
       "model_id": "081e10dbd02543b497aaedb7ecb4e91b",
       "version_major": 2,
       "version_minor": 0
      },
      "text/plain": [
       "Batches:   0%|          | 0/1 [00:00<?, ?it/s]"
      ]
     },
     "metadata": {},
     "output_type": "display_data"
    },
    {
     "data": {
      "application/vnd.jupyter.widget-view+json": {
       "model_id": "520ee5c1f49a436b94bdbea7a55aafc8",
       "version_major": 2,
       "version_minor": 0
      },
      "text/plain": [
       "Batches:   0%|          | 0/1 [00:00<?, ?it/s]"
      ]
     },
     "metadata": {},
     "output_type": "display_data"
    },
    {
     "name": "stderr",
     "output_type": "stream",
     "text": [
      "\r",
      "Analyzing responses:   5%|███                                                           | 2/40 [00:00<00:13,  2.92it/s]"
     ]
    },
    {
     "data": {
      "application/vnd.jupyter.widget-view+json": {
       "model_id": "a9acbcd757d142e88510c07afb9cb2a8",
       "version_major": 2,
       "version_minor": 0
      },
      "text/plain": [
       "Batches:   0%|          | 0/1 [00:00<?, ?it/s]"
      ]
     },
     "metadata": {},
     "output_type": "display_data"
    },
    {
     "data": {
      "application/vnd.jupyter.widget-view+json": {
       "model_id": "cab57cb9be2c4397b93c441feafc81e4",
       "version_major": 2,
       "version_minor": 0
      },
      "text/plain": [
       "Batches:   0%|          | 0/1 [00:00<?, ?it/s]"
      ]
     },
     "metadata": {},
     "output_type": "display_data"
    },
    {
     "name": "stderr",
     "output_type": "stream",
     "text": [
      "\r",
      "Analyzing responses:   8%|████▋                                                         | 3/40 [00:00<00:11,  3.14it/s]"
     ]
    },
    {
     "data": {
      "application/vnd.jupyter.widget-view+json": {
       "model_id": "cb025120a4f2407f9dd51f13f84ae0fc",
       "version_major": 2,
       "version_minor": 0
      },
      "text/plain": [
       "Batches:   0%|          | 0/1 [00:00<?, ?it/s]"
      ]
     },
     "metadata": {},
     "output_type": "display_data"
    },
    {
     "data": {
      "application/vnd.jupyter.widget-view+json": {
       "model_id": "4673df86c822439680d8973a6348a331",
       "version_major": 2,
       "version_minor": 0
      },
      "text/plain": [
       "Batches:   0%|          | 0/1 [00:00<?, ?it/s]"
      ]
     },
     "metadata": {},
     "output_type": "display_data"
    },
    {
     "name": "stderr",
     "output_type": "stream",
     "text": [
      "\r",
      "Analyzing responses:  10%|██████▏                                                       | 4/40 [00:01<00:10,  3.42it/s]"
     ]
    },
    {
     "data": {
      "application/vnd.jupyter.widget-view+json": {
       "model_id": "5d4f2fa2b7154f9b8c365620878809ee",
       "version_major": 2,
       "version_minor": 0
      },
      "text/plain": [
       "Batches:   0%|          | 0/1 [00:00<?, ?it/s]"
      ]
     },
     "metadata": {},
     "output_type": "display_data"
    },
    {
     "data": {
      "application/vnd.jupyter.widget-view+json": {
       "model_id": "0d303bffe6ab4ad7a414b04e41b6fc6a",
       "version_major": 2,
       "version_minor": 0
      },
      "text/plain": [
       "Batches:   0%|          | 0/1 [00:00<?, ?it/s]"
      ]
     },
     "metadata": {},
     "output_type": "display_data"
    },
    {
     "name": "stderr",
     "output_type": "stream",
     "text": [
      "\r",
      "Analyzing responses:  12%|███████▊                                                      | 5/40 [00:01<00:10,  3.38it/s]"
     ]
    },
    {
     "data": {
      "application/vnd.jupyter.widget-view+json": {
       "model_id": "d245e5d466e94de3abe73d128a7df60d",
       "version_major": 2,
       "version_minor": 0
      },
      "text/plain": [
       "Batches:   0%|          | 0/1 [00:00<?, ?it/s]"
      ]
     },
     "metadata": {},
     "output_type": "display_data"
    },
    {
     "data": {
      "application/vnd.jupyter.widget-view+json": {
       "model_id": "6a5a3c7835d6448fb1b95165f71bd09e",
       "version_major": 2,
       "version_minor": 0
      },
      "text/plain": [
       "Batches:   0%|          | 0/1 [00:00<?, ?it/s]"
      ]
     },
     "metadata": {},
     "output_type": "display_data"
    },
    {
     "name": "stderr",
     "output_type": "stream",
     "text": [
      "\r",
      "Analyzing responses:  15%|█████████▎                                                    | 6/40 [00:01<00:09,  3.42it/s]"
     ]
    },
    {
     "data": {
      "application/vnd.jupyter.widget-view+json": {
       "model_id": "88309d0141e14768b85655b81e4c4650",
       "version_major": 2,
       "version_minor": 0
      },
      "text/plain": [
       "Batches:   0%|          | 0/1 [00:00<?, ?it/s]"
      ]
     },
     "metadata": {},
     "output_type": "display_data"
    },
    {
     "data": {
      "application/vnd.jupyter.widget-view+json": {
       "model_id": "92ba5893720348918eda804d29cfadbf",
       "version_major": 2,
       "version_minor": 0
      },
      "text/plain": [
       "Batches:   0%|          | 0/1 [00:00<?, ?it/s]"
      ]
     },
     "metadata": {},
     "output_type": "display_data"
    },
    {
     "name": "stderr",
     "output_type": "stream",
     "text": [
      "\r",
      "Analyzing responses:  18%|██████████▊                                                   | 7/40 [00:02<00:09,  3.59it/s]"
     ]
    },
    {
     "data": {
      "application/vnd.jupyter.widget-view+json": {
       "model_id": "29c2542c1f7740f193dd63c7b0fb47e7",
       "version_major": 2,
       "version_minor": 0
      },
      "text/plain": [
       "Batches:   0%|          | 0/1 [00:00<?, ?it/s]"
      ]
     },
     "metadata": {},
     "output_type": "display_data"
    },
    {
     "data": {
      "application/vnd.jupyter.widget-view+json": {
       "model_id": "e0bf99b3dddf4909a708fafd383b7a69",
       "version_major": 2,
       "version_minor": 0
      },
      "text/plain": [
       "Batches:   0%|          | 0/1 [00:00<?, ?it/s]"
      ]
     },
     "metadata": {},
     "output_type": "display_data"
    },
    {
     "name": "stderr",
     "output_type": "stream",
     "text": [
      "\r",
      "Analyzing responses:  20%|████████████▍                                                 | 8/40 [00:02<00:08,  3.77it/s]"
     ]
    },
    {
     "data": {
      "application/vnd.jupyter.widget-view+json": {
       "model_id": "38ae6f1bfb414d40b512610e33ba850d",
       "version_major": 2,
       "version_minor": 0
      },
      "text/plain": [
       "Batches:   0%|          | 0/1 [00:00<?, ?it/s]"
      ]
     },
     "metadata": {},
     "output_type": "display_data"
    },
    {
     "data": {
      "application/vnd.jupyter.widget-view+json": {
       "model_id": "4458fef32bde4d718a111a5ad8612206",
       "version_major": 2,
       "version_minor": 0
      },
      "text/plain": [
       "Batches:   0%|          | 0/1 [00:00<?, ?it/s]"
      ]
     },
     "metadata": {},
     "output_type": "display_data"
    },
    {
     "name": "stderr",
     "output_type": "stream",
     "text": [
      "\r",
      "Analyzing responses:  22%|█████████████▉                                                | 9/40 [00:02<00:09,  3.22it/s]"
     ]
    },
    {
     "data": {
      "application/vnd.jupyter.widget-view+json": {
       "model_id": "b6cb8ab83668476f80442f5efd2960c1",
       "version_major": 2,
       "version_minor": 0
      },
      "text/plain": [
       "Batches:   0%|          | 0/1 [00:00<?, ?it/s]"
      ]
     },
     "metadata": {},
     "output_type": "display_data"
    },
    {
     "data": {
      "application/vnd.jupyter.widget-view+json": {
       "model_id": "13cad058215d40ee8626ae1ff3807f4b",
       "version_major": 2,
       "version_minor": 0
      },
      "text/plain": [
       "Batches:   0%|          | 0/1 [00:00<?, ?it/s]"
      ]
     },
     "metadata": {},
     "output_type": "display_data"
    },
    {
     "name": "stderr",
     "output_type": "stream",
     "text": [
      "\r",
      "Analyzing responses:  25%|███████████████▎                                             | 10/40 [00:02<00:08,  3.40it/s]"
     ]
    },
    {
     "data": {
      "application/vnd.jupyter.widget-view+json": {
       "model_id": "064748f6a8cc496eb966476e4322eb88",
       "version_major": 2,
       "version_minor": 0
      },
      "text/plain": [
       "Batches:   0%|          | 0/1 [00:00<?, ?it/s]"
      ]
     },
     "metadata": {},
     "output_type": "display_data"
    },
    {
     "data": {
      "application/vnd.jupyter.widget-view+json": {
       "model_id": "f5e187db4e7040fcb42d84504e2ec4d5",
       "version_major": 2,
       "version_minor": 0
      },
      "text/plain": [
       "Batches:   0%|          | 0/1 [00:00<?, ?it/s]"
      ]
     },
     "metadata": {},
     "output_type": "display_data"
    },
    {
     "name": "stderr",
     "output_type": "stream",
     "text": [
      "\r",
      "Analyzing responses:  28%|████████████████▊                                            | 11/40 [00:03<00:09,  3.03it/s]"
     ]
    },
    {
     "data": {
      "application/vnd.jupyter.widget-view+json": {
       "model_id": "852847e3860f47c59dc9a2677fc2a624",
       "version_major": 2,
       "version_minor": 0
      },
      "text/plain": [
       "Batches:   0%|          | 0/1 [00:00<?, ?it/s]"
      ]
     },
     "metadata": {},
     "output_type": "display_data"
    },
    {
     "data": {
      "application/vnd.jupyter.widget-view+json": {
       "model_id": "9c59a0d77f67483fbbcdba42ad14e161",
       "version_major": 2,
       "version_minor": 0
      },
      "text/plain": [
       "Batches:   0%|          | 0/1 [00:00<?, ?it/s]"
      ]
     },
     "metadata": {},
     "output_type": "display_data"
    },
    {
     "name": "stderr",
     "output_type": "stream",
     "text": [
      "\r",
      "Analyzing responses:  30%|██████████████████▎                                          | 12/40 [00:03<00:08,  3.20it/s]"
     ]
    },
    {
     "data": {
      "application/vnd.jupyter.widget-view+json": {
       "model_id": "5047e43c57f24c42bd5d73516d0122e5",
       "version_major": 2,
       "version_minor": 0
      },
      "text/plain": [
       "Batches:   0%|          | 0/1 [00:00<?, ?it/s]"
      ]
     },
     "metadata": {},
     "output_type": "display_data"
    },
    {
     "data": {
      "application/vnd.jupyter.widget-view+json": {
       "model_id": "a2456fbebbbd4083becd34619297d219",
       "version_major": 2,
       "version_minor": 0
      },
      "text/plain": [
       "Batches:   0%|          | 0/1 [00:00<?, ?it/s]"
      ]
     },
     "metadata": {},
     "output_type": "display_data"
    },
    {
     "name": "stderr",
     "output_type": "stream",
     "text": [
      "\r",
      "Analyzing responses:  32%|███████████████████▊                                         | 13/40 [00:04<00:09,  2.92it/s]"
     ]
    },
    {
     "data": {
      "application/vnd.jupyter.widget-view+json": {
       "model_id": "54b03522732e4d14860ed8f9c9cacd8d",
       "version_major": 2,
       "version_minor": 0
      },
      "text/plain": [
       "Batches:   0%|          | 0/1 [00:00<?, ?it/s]"
      ]
     },
     "metadata": {},
     "output_type": "display_data"
    },
    {
     "data": {
      "application/vnd.jupyter.widget-view+json": {
       "model_id": "9a0e83466ffe4a8d8c7b57820556c224",
       "version_major": 2,
       "version_minor": 0
      },
      "text/plain": [
       "Batches:   0%|          | 0/1 [00:00<?, ?it/s]"
      ]
     },
     "metadata": {},
     "output_type": "display_data"
    },
    {
     "name": "stderr",
     "output_type": "stream",
     "text": [
      "\r",
      "Analyzing responses:  35%|█████████████████████▎                                       | 14/40 [00:04<00:08,  3.23it/s]"
     ]
    },
    {
     "data": {
      "application/vnd.jupyter.widget-view+json": {
       "model_id": "09feb306bb004ac794f69c9229cf2ea4",
       "version_major": 2,
       "version_minor": 0
      },
      "text/plain": [
       "Batches:   0%|          | 0/1 [00:00<?, ?it/s]"
      ]
     },
     "metadata": {},
     "output_type": "display_data"
    },
    {
     "data": {
      "application/vnd.jupyter.widget-view+json": {
       "model_id": "dbb3515c028a42a38448b1acbb615efa",
       "version_major": 2,
       "version_minor": 0
      },
      "text/plain": [
       "Batches:   0%|          | 0/1 [00:00<?, ?it/s]"
      ]
     },
     "metadata": {},
     "output_type": "display_data"
    },
    {
     "name": "stderr",
     "output_type": "stream",
     "text": [
      "\r",
      "Analyzing responses:  38%|██████████████████████▉                                      | 15/40 [00:04<00:07,  3.44it/s]"
     ]
    },
    {
     "data": {
      "application/vnd.jupyter.widget-view+json": {
       "model_id": "bdace6eb74614620a503963c11dde9a4",
       "version_major": 2,
       "version_minor": 0
      },
      "text/plain": [
       "Batches:   0%|          | 0/1 [00:00<?, ?it/s]"
      ]
     },
     "metadata": {},
     "output_type": "display_data"
    },
    {
     "data": {
      "application/vnd.jupyter.widget-view+json": {
       "model_id": "5a79a61f69674165b0c7dde2df4d039f",
       "version_major": 2,
       "version_minor": 0
      },
      "text/plain": [
       "Batches:   0%|          | 0/1 [00:00<?, ?it/s]"
      ]
     },
     "metadata": {},
     "output_type": "display_data"
    },
    {
     "name": "stderr",
     "output_type": "stream",
     "text": [
      "\r",
      "Analyzing responses:  40%|████████████████████████▍                                    | 16/40 [00:04<00:06,  3.61it/s]"
     ]
    },
    {
     "data": {
      "application/vnd.jupyter.widget-view+json": {
       "model_id": "ab6450ca5112461bb6b9aeb4768bf1b0",
       "version_major": 2,
       "version_minor": 0
      },
      "text/plain": [
       "Batches:   0%|          | 0/1 [00:00<?, ?it/s]"
      ]
     },
     "metadata": {},
     "output_type": "display_data"
    },
    {
     "data": {
      "application/vnd.jupyter.widget-view+json": {
       "model_id": "b6776af924aa4177b054c0d05d85d566",
       "version_major": 2,
       "version_minor": 0
      },
      "text/plain": [
       "Batches:   0%|          | 0/1 [00:00<?, ?it/s]"
      ]
     },
     "metadata": {},
     "output_type": "display_data"
    },
    {
     "name": "stderr",
     "output_type": "stream",
     "text": [
      "\r",
      "Analyzing responses:  42%|█████████████████████████▉                                   | 17/40 [00:05<00:06,  3.51it/s]"
     ]
    },
    {
     "data": {
      "application/vnd.jupyter.widget-view+json": {
       "model_id": "4831cd0312f24fb0ae0cc1a364877e8d",
       "version_major": 2,
       "version_minor": 0
      },
      "text/plain": [
       "Batches:   0%|          | 0/1 [00:00<?, ?it/s]"
      ]
     },
     "metadata": {},
     "output_type": "display_data"
    },
    {
     "data": {
      "application/vnd.jupyter.widget-view+json": {
       "model_id": "d59d944e48df420bbcf3facdd0f3ccf5",
       "version_major": 2,
       "version_minor": 0
      },
      "text/plain": [
       "Batches:   0%|          | 0/1 [00:00<?, ?it/s]"
      ]
     },
     "metadata": {},
     "output_type": "display_data"
    },
    {
     "name": "stderr",
     "output_type": "stream",
     "text": [
      "\r",
      "Analyzing responses:  45%|███████████████████████████▍                                 | 18/40 [00:05<00:06,  3.35it/s]"
     ]
    },
    {
     "data": {
      "application/vnd.jupyter.widget-view+json": {
       "model_id": "3a0afbe86cfe4ab39e11b41e7fb4f064",
       "version_major": 2,
       "version_minor": 0
      },
      "text/plain": [
       "Batches:   0%|          | 0/1 [00:00<?, ?it/s]"
      ]
     },
     "metadata": {},
     "output_type": "display_data"
    },
    {
     "data": {
      "application/vnd.jupyter.widget-view+json": {
       "model_id": "a205401d96384e3ebd757f38dc6c089a",
       "version_major": 2,
       "version_minor": 0
      },
      "text/plain": [
       "Batches:   0%|          | 0/1 [00:00<?, ?it/s]"
      ]
     },
     "metadata": {},
     "output_type": "display_data"
    },
    {
     "name": "stderr",
     "output_type": "stream",
     "text": [
      "\r",
      "Analyzing responses:  48%|████████████████████████████▉                                | 19/40 [00:05<00:06,  3.15it/s]"
     ]
    },
    {
     "data": {
      "application/vnd.jupyter.widget-view+json": {
       "model_id": "24358b2ed9074419b90857180188e406",
       "version_major": 2,
       "version_minor": 0
      },
      "text/plain": [
       "Batches:   0%|          | 0/1 [00:00<?, ?it/s]"
      ]
     },
     "metadata": {},
     "output_type": "display_data"
    },
    {
     "data": {
      "application/vnd.jupyter.widget-view+json": {
       "model_id": "b9fada8e224e4238b323ad7a16455697",
       "version_major": 2,
       "version_minor": 0
      },
      "text/plain": [
       "Batches:   0%|          | 0/1 [00:00<?, ?it/s]"
      ]
     },
     "metadata": {},
     "output_type": "display_data"
    },
    {
     "name": "stderr",
     "output_type": "stream",
     "text": [
      "\r",
      "Analyzing responses:  50%|██████████████████████████████▌                              | 20/40 [00:06<00:06,  3.07it/s]"
     ]
    },
    {
     "data": {
      "application/vnd.jupyter.widget-view+json": {
       "model_id": "14f60113addd43309732bf7a91f8bc35",
       "version_major": 2,
       "version_minor": 0
      },
      "text/plain": [
       "Batches:   0%|          | 0/1 [00:00<?, ?it/s]"
      ]
     },
     "metadata": {},
     "output_type": "display_data"
    },
    {
     "data": {
      "application/vnd.jupyter.widget-view+json": {
       "model_id": "e29de594842448e2821b7b1728bddf76",
       "version_major": 2,
       "version_minor": 0
      },
      "text/plain": [
       "Batches:   0%|          | 0/1 [00:00<?, ?it/s]"
      ]
     },
     "metadata": {},
     "output_type": "display_data"
    },
    {
     "name": "stderr",
     "output_type": "stream",
     "text": [
      "\r",
      "Analyzing responses:  52%|████████████████████████████████                             | 21/40 [00:06<00:06,  2.76it/s]"
     ]
    },
    {
     "data": {
      "application/vnd.jupyter.widget-view+json": {
       "model_id": "f4a02b2160284472bab054b3515afcf9",
       "version_major": 2,
       "version_minor": 0
      },
      "text/plain": [
       "Batches:   0%|          | 0/1 [00:00<?, ?it/s]"
      ]
     },
     "metadata": {},
     "output_type": "display_data"
    },
    {
     "data": {
      "application/vnd.jupyter.widget-view+json": {
       "model_id": "eb96bf0d4bcf436f895dd10423431187",
       "version_major": 2,
       "version_minor": 0
      },
      "text/plain": [
       "Batches:   0%|          | 0/1 [00:00<?, ?it/s]"
      ]
     },
     "metadata": {},
     "output_type": "display_data"
    },
    {
     "name": "stderr",
     "output_type": "stream",
     "text": [
      "\r",
      "Analyzing responses:  55%|█████████████████████████████████▌                           | 22/40 [00:06<00:06,  2.89it/s]"
     ]
    },
    {
     "data": {
      "application/vnd.jupyter.widget-view+json": {
       "model_id": "053bfdb76f934a64b628867edfad5ba8",
       "version_major": 2,
       "version_minor": 0
      },
      "text/plain": [
       "Batches:   0%|          | 0/1 [00:00<?, ?it/s]"
      ]
     },
     "metadata": {},
     "output_type": "display_data"
    },
    {
     "data": {
      "application/vnd.jupyter.widget-view+json": {
       "model_id": "df06ad4b096d41fcae1ed1af14dd6a5d",
       "version_major": 2,
       "version_minor": 0
      },
      "text/plain": [
       "Batches:   0%|          | 0/1 [00:00<?, ?it/s]"
      ]
     },
     "metadata": {},
     "output_type": "display_data"
    },
    {
     "name": "stderr",
     "output_type": "stream",
     "text": [
      "\r",
      "Analyzing responses:  57%|███████████████████████████████████                          | 23/40 [00:07<00:05,  3.17it/s]"
     ]
    },
    {
     "data": {
      "application/vnd.jupyter.widget-view+json": {
       "model_id": "9b0955cfff694153a979fb0c61626e9e",
       "version_major": 2,
       "version_minor": 0
      },
      "text/plain": [
       "Batches:   0%|          | 0/1 [00:00<?, ?it/s]"
      ]
     },
     "metadata": {},
     "output_type": "display_data"
    },
    {
     "data": {
      "application/vnd.jupyter.widget-view+json": {
       "model_id": "c1857c7c497f45349453493918b204ed",
       "version_major": 2,
       "version_minor": 0
      },
      "text/plain": [
       "Batches:   0%|          | 0/1 [00:00<?, ?it/s]"
      ]
     },
     "metadata": {},
     "output_type": "display_data"
    },
    {
     "name": "stderr",
     "output_type": "stream",
     "text": [
      "\r",
      "Analyzing responses:  60%|████████████████████████████████████▌                        | 24/40 [00:07<00:04,  3.45it/s]"
     ]
    },
    {
     "data": {
      "application/vnd.jupyter.widget-view+json": {
       "model_id": "2203442249914b83a12d7520c1f55525",
       "version_major": 2,
       "version_minor": 0
      },
      "text/plain": [
       "Batches:   0%|          | 0/1 [00:00<?, ?it/s]"
      ]
     },
     "metadata": {},
     "output_type": "display_data"
    },
    {
     "data": {
      "application/vnd.jupyter.widget-view+json": {
       "model_id": "8c87ea02bd45451ebbc42fd4f121dc0d",
       "version_major": 2,
       "version_minor": 0
      },
      "text/plain": [
       "Batches:   0%|          | 0/1 [00:00<?, ?it/s]"
      ]
     },
     "metadata": {},
     "output_type": "display_data"
    },
    {
     "name": "stderr",
     "output_type": "stream",
     "text": [
      "\r",
      "Analyzing responses:  62%|██████████████████████████████████████▏                      | 25/40 [00:07<00:04,  3.74it/s]"
     ]
    },
    {
     "data": {
      "application/vnd.jupyter.widget-view+json": {
       "model_id": "69a4bd016a2d4dc5b76513223b2de2d6",
       "version_major": 2,
       "version_minor": 0
      },
      "text/plain": [
       "Batches:   0%|          | 0/1 [00:00<?, ?it/s]"
      ]
     },
     "metadata": {},
     "output_type": "display_data"
    },
    {
     "data": {
      "application/vnd.jupyter.widget-view+json": {
       "model_id": "5244653358264549aecc241f1fb9c3f4",
       "version_major": 2,
       "version_minor": 0
      },
      "text/plain": [
       "Batches:   0%|          | 0/1 [00:00<?, ?it/s]"
      ]
     },
     "metadata": {},
     "output_type": "display_data"
    },
    {
     "name": "stderr",
     "output_type": "stream",
     "text": [
      "\r",
      "Analyzing responses:  65%|███████████████████████████████████████▋                     | 26/40 [00:07<00:03,  3.55it/s]"
     ]
    },
    {
     "data": {
      "application/vnd.jupyter.widget-view+json": {
       "model_id": "3673dab1ab1b4538840696352abbab38",
       "version_major": 2,
       "version_minor": 0
      },
      "text/plain": [
       "Batches:   0%|          | 0/1 [00:00<?, ?it/s]"
      ]
     },
     "metadata": {},
     "output_type": "display_data"
    },
    {
     "data": {
      "application/vnd.jupyter.widget-view+json": {
       "model_id": "f914347129c949dba34df529fb7a5fd9",
       "version_major": 2,
       "version_minor": 0
      },
      "text/plain": [
       "Batches:   0%|          | 0/1 [00:00<?, ?it/s]"
      ]
     },
     "metadata": {},
     "output_type": "display_data"
    },
    {
     "name": "stderr",
     "output_type": "stream",
     "text": [
      "\r",
      "Analyzing responses:  68%|█████████████████████████████████████████▏                   | 27/40 [00:08<00:03,  3.69it/s]"
     ]
    },
    {
     "data": {
      "application/vnd.jupyter.widget-view+json": {
       "model_id": "b4050095cfc14fcab59f852c9cf35997",
       "version_major": 2,
       "version_minor": 0
      },
      "text/plain": [
       "Batches:   0%|          | 0/1 [00:00<?, ?it/s]"
      ]
     },
     "metadata": {},
     "output_type": "display_data"
    },
    {
     "data": {
      "application/vnd.jupyter.widget-view+json": {
       "model_id": "a33cadd836694ed7ad67fa5ad998a661",
       "version_major": 2,
       "version_minor": 0
      },
      "text/plain": [
       "Batches:   0%|          | 0/1 [00:00<?, ?it/s]"
      ]
     },
     "metadata": {},
     "output_type": "display_data"
    },
    {
     "name": "stderr",
     "output_type": "stream",
     "text": [
      "\r",
      "Analyzing responses:  70%|██████████████████████████████████████████▋                  | 28/40 [00:08<00:03,  3.51it/s]"
     ]
    },
    {
     "data": {
      "application/vnd.jupyter.widget-view+json": {
       "model_id": "3f942d20fec74ec6b5e002c024d8a7f2",
       "version_major": 2,
       "version_minor": 0
      },
      "text/plain": [
       "Batches:   0%|          | 0/1 [00:00<?, ?it/s]"
      ]
     },
     "metadata": {},
     "output_type": "display_data"
    },
    {
     "data": {
      "application/vnd.jupyter.widget-view+json": {
       "model_id": "6410822d9e804ba8a36eb5f2f41f17c4",
       "version_major": 2,
       "version_minor": 0
      },
      "text/plain": [
       "Batches:   0%|          | 0/1 [00:00<?, ?it/s]"
      ]
     },
     "metadata": {},
     "output_type": "display_data"
    },
    {
     "name": "stderr",
     "output_type": "stream",
     "text": [
      "\r",
      "Analyzing responses:  72%|████████████████████████████████████████████▏                | 29/40 [00:08<00:02,  3.76it/s]"
     ]
    },
    {
     "data": {
      "application/vnd.jupyter.widget-view+json": {
       "model_id": "39215c56710b411490fe9a685224ae59",
       "version_major": 2,
       "version_minor": 0
      },
      "text/plain": [
       "Batches:   0%|          | 0/1 [00:00<?, ?it/s]"
      ]
     },
     "metadata": {},
     "output_type": "display_data"
    },
    {
     "data": {
      "application/vnd.jupyter.widget-view+json": {
       "model_id": "868800fc28f44ed883e2095be3c5ac1d",
       "version_major": 2,
       "version_minor": 0
      },
      "text/plain": [
       "Batches:   0%|          | 0/1 [00:00<?, ?it/s]"
      ]
     },
     "metadata": {},
     "output_type": "display_data"
    },
    {
     "name": "stderr",
     "output_type": "stream",
     "text": [
      "\r",
      "Analyzing responses:  75%|█████████████████████████████████████████████▊               | 30/40 [00:08<00:02,  3.99it/s]"
     ]
    },
    {
     "data": {
      "application/vnd.jupyter.widget-view+json": {
       "model_id": "b096ea432389492db034efe7c1d9448a",
       "version_major": 2,
       "version_minor": 0
      },
      "text/plain": [
       "Batches:   0%|          | 0/1 [00:00<?, ?it/s]"
      ]
     },
     "metadata": {},
     "output_type": "display_data"
    },
    {
     "data": {
      "application/vnd.jupyter.widget-view+json": {
       "model_id": "ea53cab1cbbc4ac09710f13ad9e70ac0",
       "version_major": 2,
       "version_minor": 0
      },
      "text/plain": [
       "Batches:   0%|          | 0/1 [00:00<?, ?it/s]"
      ]
     },
     "metadata": {},
     "output_type": "display_data"
    },
    {
     "name": "stderr",
     "output_type": "stream",
     "text": [
      "\r",
      "Analyzing responses:  78%|███████████████████████████████████████████████▎             | 31/40 [00:09<00:02,  4.24it/s]"
     ]
    },
    {
     "data": {
      "application/vnd.jupyter.widget-view+json": {
       "model_id": "8a860a0b6a9d4a0baf161aec9926158e",
       "version_major": 2,
       "version_minor": 0
      },
      "text/plain": [
       "Batches:   0%|          | 0/1 [00:00<?, ?it/s]"
      ]
     },
     "metadata": {},
     "output_type": "display_data"
    },
    {
     "data": {
      "application/vnd.jupyter.widget-view+json": {
       "model_id": "93c38f80b47941dd9a440731315d0abd",
       "version_major": 2,
       "version_minor": 0
      },
      "text/plain": [
       "Batches:   0%|          | 0/1 [00:00<?, ?it/s]"
      ]
     },
     "metadata": {},
     "output_type": "display_data"
    },
    {
     "name": "stderr",
     "output_type": "stream",
     "text": [
      "\r",
      "Analyzing responses:  80%|████████████████████████████████████████████████▊            | 32/40 [00:09<00:01,  4.30it/s]"
     ]
    },
    {
     "data": {
      "application/vnd.jupyter.widget-view+json": {
       "model_id": "86658e2ee630428fad2f3e58e99ae170",
       "version_major": 2,
       "version_minor": 0
      },
      "text/plain": [
       "Batches:   0%|          | 0/1 [00:00<?, ?it/s]"
      ]
     },
     "metadata": {},
     "output_type": "display_data"
    },
    {
     "data": {
      "application/vnd.jupyter.widget-view+json": {
       "model_id": "2c6bf12d71c6410e8838134b05bb8fb6",
       "version_major": 2,
       "version_minor": 0
      },
      "text/plain": [
       "Batches:   0%|          | 0/1 [00:00<?, ?it/s]"
      ]
     },
     "metadata": {},
     "output_type": "display_data"
    },
    {
     "name": "stderr",
     "output_type": "stream",
     "text": [
      "\r",
      "Analyzing responses:  82%|██████████████████████████████████████████████████▎          | 33/40 [00:09<00:01,  3.86it/s]"
     ]
    },
    {
     "data": {
      "application/vnd.jupyter.widget-view+json": {
       "model_id": "410de4ea6e35483b9b3634f4f0a3e6f0",
       "version_major": 2,
       "version_minor": 0
      },
      "text/plain": [
       "Batches:   0%|          | 0/1 [00:00<?, ?it/s]"
      ]
     },
     "metadata": {},
     "output_type": "display_data"
    },
    {
     "data": {
      "application/vnd.jupyter.widget-view+json": {
       "model_id": "a1c7570052f2408d85f292ac183ff2d0",
       "version_major": 2,
       "version_minor": 0
      },
      "text/plain": [
       "Batches:   0%|          | 0/1 [00:00<?, ?it/s]"
      ]
     },
     "metadata": {},
     "output_type": "display_data"
    },
    {
     "name": "stderr",
     "output_type": "stream",
     "text": [
      "\r",
      "Analyzing responses:  85%|███████████████████████████████████████████████████▊         | 34/40 [00:09<00:01,  3.45it/s]"
     ]
    },
    {
     "data": {
      "application/vnd.jupyter.widget-view+json": {
       "model_id": "93703a57498a41e687cbc0a07e8cd67f",
       "version_major": 2,
       "version_minor": 0
      },
      "text/plain": [
       "Batches:   0%|          | 0/1 [00:00<?, ?it/s]"
      ]
     },
     "metadata": {},
     "output_type": "display_data"
    },
    {
     "data": {
      "application/vnd.jupyter.widget-view+json": {
       "model_id": "dfde409fd9d04e0e876deed6a4be1aeb",
       "version_major": 2,
       "version_minor": 0
      },
      "text/plain": [
       "Batches:   0%|          | 0/1 [00:00<?, ?it/s]"
      ]
     },
     "metadata": {},
     "output_type": "display_data"
    },
    {
     "name": "stderr",
     "output_type": "stream",
     "text": [
      "\r",
      "Analyzing responses:  88%|█████████████████████████████████████████████████████▍       | 35/40 [00:10<00:01,  3.33it/s]"
     ]
    },
    {
     "data": {
      "application/vnd.jupyter.widget-view+json": {
       "model_id": "5b2ad261c53d40faa867e21a31d508b2",
       "version_major": 2,
       "version_minor": 0
      },
      "text/plain": [
       "Batches:   0%|          | 0/1 [00:00<?, ?it/s]"
      ]
     },
     "metadata": {},
     "output_type": "display_data"
    },
    {
     "data": {
      "application/vnd.jupyter.widget-view+json": {
       "model_id": "f70fd69bd6c3469985d2add8e1803056",
       "version_major": 2,
       "version_minor": 0
      },
      "text/plain": [
       "Batches:   0%|          | 0/1 [00:00<?, ?it/s]"
      ]
     },
     "metadata": {},
     "output_type": "display_data"
    },
    {
     "name": "stderr",
     "output_type": "stream",
     "text": [
      "\r",
      "Analyzing responses:  90%|██████████████████████████████████████████████████████▉      | 36/40 [00:10<00:01,  3.62it/s]"
     ]
    },
    {
     "data": {
      "application/vnd.jupyter.widget-view+json": {
       "model_id": "27bfc7657cd8405aa2bcc7c354d2f8e2",
       "version_major": 2,
       "version_minor": 0
      },
      "text/plain": [
       "Batches:   0%|          | 0/1 [00:00<?, ?it/s]"
      ]
     },
     "metadata": {},
     "output_type": "display_data"
    },
    {
     "data": {
      "application/vnd.jupyter.widget-view+json": {
       "model_id": "a221a60999204b119f255eeed6f9d7a5",
       "version_major": 2,
       "version_minor": 0
      },
      "text/plain": [
       "Batches:   0%|          | 0/1 [00:00<?, ?it/s]"
      ]
     },
     "metadata": {},
     "output_type": "display_data"
    },
    {
     "name": "stderr",
     "output_type": "stream",
     "text": [
      "\r",
      "Analyzing responses:  92%|████████████████████████████████████████████████████████▍    | 37/40 [00:10<00:00,  3.66it/s]"
     ]
    },
    {
     "data": {
      "application/vnd.jupyter.widget-view+json": {
       "model_id": "ccba2a3355ea44ae8b0d2c0283116bd0",
       "version_major": 2,
       "version_minor": 0
      },
      "text/plain": [
       "Batches:   0%|          | 0/1 [00:00<?, ?it/s]"
      ]
     },
     "metadata": {},
     "output_type": "display_data"
    },
    {
     "data": {
      "application/vnd.jupyter.widget-view+json": {
       "model_id": "fa809f9be8324058851e2021ff423df0",
       "version_major": 2,
       "version_minor": 0
      },
      "text/plain": [
       "Batches:   0%|          | 0/1 [00:00<?, ?it/s]"
      ]
     },
     "metadata": {},
     "output_type": "display_data"
    },
    {
     "name": "stderr",
     "output_type": "stream",
     "text": [
      "\r",
      "Analyzing responses:  95%|█████████████████████████████████████████████████████████▉   | 38/40 [00:11<00:00,  3.72it/s]"
     ]
    },
    {
     "data": {
      "application/vnd.jupyter.widget-view+json": {
       "model_id": "6157b590900548ce8a448d5f35d12f39",
       "version_major": 2,
       "version_minor": 0
      },
      "text/plain": [
       "Batches:   0%|          | 0/1 [00:00<?, ?it/s]"
      ]
     },
     "metadata": {},
     "output_type": "display_data"
    },
    {
     "data": {
      "application/vnd.jupyter.widget-view+json": {
       "model_id": "d36eb19b75e54359a0c408c9257ad33d",
       "version_major": 2,
       "version_minor": 0
      },
      "text/plain": [
       "Batches:   0%|          | 0/1 [00:00<?, ?it/s]"
      ]
     },
     "metadata": {},
     "output_type": "display_data"
    },
    {
     "name": "stderr",
     "output_type": "stream",
     "text": [
      "\r",
      "Analyzing responses:  98%|███████████████████████████████████████████████████████████▍ | 39/40 [00:11<00:00,  3.75it/s]"
     ]
    },
    {
     "data": {
      "application/vnd.jupyter.widget-view+json": {
       "model_id": "335097d12ae24b7c8cf2b01bd6520a68",
       "version_major": 2,
       "version_minor": 0
      },
      "text/plain": [
       "Batches:   0%|          | 0/1 [00:00<?, ?it/s]"
      ]
     },
     "metadata": {},
     "output_type": "display_data"
    },
    {
     "data": {
      "application/vnd.jupyter.widget-view+json": {
       "model_id": "992e7a6f935b4d04b5641c866e0ef21e",
       "version_major": 2,
       "version_minor": 0
      },
      "text/plain": [
       "Batches:   0%|          | 0/1 [00:00<?, ?it/s]"
      ]
     },
     "metadata": {},
     "output_type": "display_data"
    },
    {
     "name": "stderr",
     "output_type": "stream",
     "text": [
      "Analyzing responses: 100%|█████████████████████████████████████████████████████████████| 40/40 [00:11<00:00,  3.48it/s]"
     ]
    },
    {
     "name": "stdout",
     "output_type": "stream",
     "text": [
      "\n",
      "Summary Metrics:\n",
      "Average Faithfulness: 0.8691\n",
      "Average Hallucination: 0.1309\n",
      "Average Coverage: 0.2031\n"
     ]
    },
    {
     "name": "stderr",
     "output_type": "stream",
     "text": [
      "\n"
     ]
    }
   ],
   "source": [
    "\n",
    "# Example usage:\n",
    "\n",
    "calculator = FaithfulnessCalculator('hybrid_evaluation/qna_combined.json')\n",
    "results = calculator.analyze_rag_results()\n",
    "\n",
    "print(\"\\nSummary Metrics:\")\n",
    "print(f\"Average Faithfulness: {results['summary']['average_faithfulness']:.4f}\")\n",
    "print(f\"Average Hallucination: {results['summary']['average_hallucination']:.4f}\")\n",
    "print(f\"Average Coverage: {results['summary']['average_coverage']:.4f}\")\n"
   ]
  },
  {
   "cell_type": "code",
   "execution_count": 29,
   "id": "47cb27da",
   "metadata": {
    "scrolled": true
   },
   "outputs": [
    {
     "name": "stderr",
     "output_type": "stream",
     "text": [
      "\r",
      "Analyzing responses:   0%|                                                                      | 0/40 [00:00<?, ?it/s]"
     ]
    },
    {
     "data": {
      "application/vnd.jupyter.widget-view+json": {
       "model_id": "ebe98b596e304b4bbb147765d257637a",
       "version_major": 2,
       "version_minor": 0
      },
      "text/plain": [
       "Batches:   0%|          | 0/1 [00:00<?, ?it/s]"
      ]
     },
     "metadata": {},
     "output_type": "display_data"
    },
    {
     "data": {
      "application/vnd.jupyter.widget-view+json": {
       "model_id": "e31160888de64a0e87d55cc81b19f1fd",
       "version_major": 2,
       "version_minor": 0
      },
      "text/plain": [
       "Batches:   0%|          | 0/1 [00:00<?, ?it/s]"
      ]
     },
     "metadata": {},
     "output_type": "display_data"
    },
    {
     "name": "stderr",
     "output_type": "stream",
     "text": [
      "\r",
      "Analyzing responses:   2%|█▌                                                            | 1/40 [00:00<00:13,  2.81it/s]"
     ]
    },
    {
     "data": {
      "application/vnd.jupyter.widget-view+json": {
       "model_id": "5ed32a87a6694c51bd0d783bdf1a5c2b",
       "version_major": 2,
       "version_minor": 0
      },
      "text/plain": [
       "Batches:   0%|          | 0/1 [00:00<?, ?it/s]"
      ]
     },
     "metadata": {},
     "output_type": "display_data"
    },
    {
     "data": {
      "application/vnd.jupyter.widget-view+json": {
       "model_id": "2a123f8909074f3cba2d8b2253dd9a3c",
       "version_major": 2,
       "version_minor": 0
      },
      "text/plain": [
       "Batches:   0%|          | 0/1 [00:00<?, ?it/s]"
      ]
     },
     "metadata": {},
     "output_type": "display_data"
    },
    {
     "name": "stderr",
     "output_type": "stream",
     "text": [
      "\r",
      "Analyzing responses:   5%|███                                                           | 2/40 [00:00<00:14,  2.60it/s]"
     ]
    },
    {
     "data": {
      "application/vnd.jupyter.widget-view+json": {
       "model_id": "1a4fff7b9e0140a6a70923848149a112",
       "version_major": 2,
       "version_minor": 0
      },
      "text/plain": [
       "Batches:   0%|          | 0/1 [00:00<?, ?it/s]"
      ]
     },
     "metadata": {},
     "output_type": "display_data"
    },
    {
     "data": {
      "application/vnd.jupyter.widget-view+json": {
       "model_id": "fa2f4688c1674c06b2e4ee723ba2ce90",
       "version_major": 2,
       "version_minor": 0
      },
      "text/plain": [
       "Batches:   0%|          | 0/1 [00:00<?, ?it/s]"
      ]
     },
     "metadata": {},
     "output_type": "display_data"
    },
    {
     "name": "stderr",
     "output_type": "stream",
     "text": [
      "\r",
      "Analyzing responses:   8%|████▋                                                         | 3/40 [00:01<00:14,  2.55it/s]"
     ]
    },
    {
     "data": {
      "application/vnd.jupyter.widget-view+json": {
       "model_id": "1d45857da0d14ffb9288c603081f23fb",
       "version_major": 2,
       "version_minor": 0
      },
      "text/plain": [
       "Batches:   0%|          | 0/1 [00:00<?, ?it/s]"
      ]
     },
     "metadata": {},
     "output_type": "display_data"
    },
    {
     "data": {
      "application/vnd.jupyter.widget-view+json": {
       "model_id": "1e766b14f0ca4cfc93df0c59da09c8d4",
       "version_major": 2,
       "version_minor": 0
      },
      "text/plain": [
       "Batches:   0%|          | 0/1 [00:00<?, ?it/s]"
      ]
     },
     "metadata": {},
     "output_type": "display_data"
    },
    {
     "name": "stderr",
     "output_type": "stream",
     "text": [
      "\r",
      "Analyzing responses:  10%|██████▏                                                       | 4/40 [00:01<00:13,  2.70it/s]"
     ]
    },
    {
     "data": {
      "application/vnd.jupyter.widget-view+json": {
       "model_id": "6730993b24e540ee87e53cbb4086a678",
       "version_major": 2,
       "version_minor": 0
      },
      "text/plain": [
       "Batches:   0%|          | 0/1 [00:00<?, ?it/s]"
      ]
     },
     "metadata": {},
     "output_type": "display_data"
    },
    {
     "data": {
      "application/vnd.jupyter.widget-view+json": {
       "model_id": "271736f5040f4e8891a746f5dbd29c17",
       "version_major": 2,
       "version_minor": 0
      },
      "text/plain": [
       "Batches:   0%|          | 0/1 [00:00<?, ?it/s]"
      ]
     },
     "metadata": {},
     "output_type": "display_data"
    },
    {
     "name": "stderr",
     "output_type": "stream",
     "text": [
      "\r",
      "Analyzing responses:  12%|███████▊                                                      | 5/40 [00:01<00:11,  3.18it/s]"
     ]
    },
    {
     "data": {
      "application/vnd.jupyter.widget-view+json": {
       "model_id": "784fa427a3ce46ae9eb24e68f12366f8",
       "version_major": 2,
       "version_minor": 0
      },
      "text/plain": [
       "Batches:   0%|          | 0/1 [00:00<?, ?it/s]"
      ]
     },
     "metadata": {},
     "output_type": "display_data"
    },
    {
     "data": {
      "application/vnd.jupyter.widget-view+json": {
       "model_id": "399a01afaed0447a9d342da30c616030",
       "version_major": 2,
       "version_minor": 0
      },
      "text/plain": [
       "Batches:   0%|          | 0/1 [00:00<?, ?it/s]"
      ]
     },
     "metadata": {},
     "output_type": "display_data"
    },
    {
     "name": "stderr",
     "output_type": "stream",
     "text": [
      "\r",
      "Analyzing responses:  15%|█████████▎                                                    | 6/40 [00:02<00:10,  3.21it/s]"
     ]
    },
    {
     "data": {
      "application/vnd.jupyter.widget-view+json": {
       "model_id": "4959407a47704346abcda3112bfcc910",
       "version_major": 2,
       "version_minor": 0
      },
      "text/plain": [
       "Batches:   0%|          | 0/1 [00:00<?, ?it/s]"
      ]
     },
     "metadata": {},
     "output_type": "display_data"
    },
    {
     "data": {
      "application/vnd.jupyter.widget-view+json": {
       "model_id": "1b2676d6cc9b496eb296f9b7cd42f3ab",
       "version_major": 2,
       "version_minor": 0
      },
      "text/plain": [
       "Batches:   0%|          | 0/1 [00:00<?, ?it/s]"
      ]
     },
     "metadata": {},
     "output_type": "display_data"
    },
    {
     "name": "stderr",
     "output_type": "stream",
     "text": [
      "\r",
      "Analyzing responses:  18%|██████████▊                                                   | 7/40 [00:02<00:09,  3.54it/s]"
     ]
    },
    {
     "data": {
      "application/vnd.jupyter.widget-view+json": {
       "model_id": "daca0561135e4a2c9f9887d0243ba5d6",
       "version_major": 2,
       "version_minor": 0
      },
      "text/plain": [
       "Batches:   0%|          | 0/1 [00:00<?, ?it/s]"
      ]
     },
     "metadata": {},
     "output_type": "display_data"
    },
    {
     "data": {
      "application/vnd.jupyter.widget-view+json": {
       "model_id": "4e61c98e5f2d410b896db1ffdb7b1288",
       "version_major": 2,
       "version_minor": 0
      },
      "text/plain": [
       "Batches:   0%|          | 0/1 [00:00<?, ?it/s]"
      ]
     },
     "metadata": {},
     "output_type": "display_data"
    },
    {
     "name": "stderr",
     "output_type": "stream",
     "text": [
      "\r",
      "Analyzing responses:  20%|████████████▍                                                 | 8/40 [00:02<00:08,  3.72it/s]"
     ]
    },
    {
     "data": {
      "application/vnd.jupyter.widget-view+json": {
       "model_id": "41c9064a25794504b122ff79d0f7b181",
       "version_major": 2,
       "version_minor": 0
      },
      "text/plain": [
       "Batches:   0%|          | 0/1 [00:00<?, ?it/s]"
      ]
     },
     "metadata": {},
     "output_type": "display_data"
    },
    {
     "data": {
      "application/vnd.jupyter.widget-view+json": {
       "model_id": "6747b37b0e9549a787d3e1ce1af891cd",
       "version_major": 2,
       "version_minor": 0
      },
      "text/plain": [
       "Batches:   0%|          | 0/1 [00:00<?, ?it/s]"
      ]
     },
     "metadata": {},
     "output_type": "display_data"
    },
    {
     "name": "stderr",
     "output_type": "stream",
     "text": [
      "\r",
      "Analyzing responses:  22%|█████████████▉                                                | 9/40 [00:02<00:09,  3.32it/s]"
     ]
    },
    {
     "data": {
      "application/vnd.jupyter.widget-view+json": {
       "model_id": "ebcd2f759ff64f42ab0f3508f00392f7",
       "version_major": 2,
       "version_minor": 0
      },
      "text/plain": [
       "Batches:   0%|          | 0/1 [00:00<?, ?it/s]"
      ]
     },
     "metadata": {},
     "output_type": "display_data"
    },
    {
     "data": {
      "application/vnd.jupyter.widget-view+json": {
       "model_id": "9c6a30cca67b4ef8a7d61746ec816404",
       "version_major": 2,
       "version_minor": 0
      },
      "text/plain": [
       "Batches:   0%|          | 0/1 [00:00<?, ?it/s]"
      ]
     },
     "metadata": {},
     "output_type": "display_data"
    },
    {
     "name": "stderr",
     "output_type": "stream",
     "text": [
      "\r",
      "Analyzing responses:  25%|███████████████▎                                             | 10/40 [00:03<00:08,  3.58it/s]"
     ]
    },
    {
     "data": {
      "application/vnd.jupyter.widget-view+json": {
       "model_id": "dbd212e5a45544c382a92e37a55c6bf1",
       "version_major": 2,
       "version_minor": 0
      },
      "text/plain": [
       "Batches:   0%|          | 0/1 [00:00<?, ?it/s]"
      ]
     },
     "metadata": {},
     "output_type": "display_data"
    },
    {
     "data": {
      "application/vnd.jupyter.widget-view+json": {
       "model_id": "3757ff40b4c74102a2a2edaacbbfa3a7",
       "version_major": 2,
       "version_minor": 0
      },
      "text/plain": [
       "Batches:   0%|          | 0/1 [00:00<?, ?it/s]"
      ]
     },
     "metadata": {},
     "output_type": "display_data"
    },
    {
     "name": "stderr",
     "output_type": "stream",
     "text": [
      "\r",
      "Analyzing responses:  28%|████████████████▊                                            | 11/40 [00:03<00:08,  3.45it/s]"
     ]
    },
    {
     "data": {
      "application/vnd.jupyter.widget-view+json": {
       "model_id": "bdefb62592f04e3dad9449b6cd0f2f7f",
       "version_major": 2,
       "version_minor": 0
      },
      "text/plain": [
       "Batches:   0%|          | 0/1 [00:00<?, ?it/s]"
      ]
     },
     "metadata": {},
     "output_type": "display_data"
    },
    {
     "data": {
      "application/vnd.jupyter.widget-view+json": {
       "model_id": "a7e9f5ed983a42e98c255ad47d16cef2",
       "version_major": 2,
       "version_minor": 0
      },
      "text/plain": [
       "Batches:   0%|          | 0/1 [00:00<?, ?it/s]"
      ]
     },
     "metadata": {},
     "output_type": "display_data"
    },
    {
     "name": "stderr",
     "output_type": "stream",
     "text": [
      "\r",
      "Analyzing responses:  30%|██████████████████▎                                          | 12/40 [00:03<00:08,  3.38it/s]"
     ]
    },
    {
     "data": {
      "application/vnd.jupyter.widget-view+json": {
       "model_id": "a318feb8f71649da975e2aeafa9f926f",
       "version_major": 2,
       "version_minor": 0
      },
      "text/plain": [
       "Batches:   0%|          | 0/1 [00:00<?, ?it/s]"
      ]
     },
     "metadata": {},
     "output_type": "display_data"
    },
    {
     "data": {
      "application/vnd.jupyter.widget-view+json": {
       "model_id": "edb56e31e99a494d9d79e26a9745f651",
       "version_major": 2,
       "version_minor": 0
      },
      "text/plain": [
       "Batches:   0%|          | 0/1 [00:00<?, ?it/s]"
      ]
     },
     "metadata": {},
     "output_type": "display_data"
    },
    {
     "name": "stderr",
     "output_type": "stream",
     "text": [
      "\r",
      "Analyzing responses:  32%|███████████████████▊                                         | 13/40 [00:04<00:08,  3.35it/s]"
     ]
    },
    {
     "data": {
      "application/vnd.jupyter.widget-view+json": {
       "model_id": "19348ac384584d488bdb13c65aea7e48",
       "version_major": 2,
       "version_minor": 0
      },
      "text/plain": [
       "Batches:   0%|          | 0/1 [00:00<?, ?it/s]"
      ]
     },
     "metadata": {},
     "output_type": "display_data"
    },
    {
     "data": {
      "application/vnd.jupyter.widget-view+json": {
       "model_id": "bf5485f5b1f242988ca22c544b8f35aa",
       "version_major": 2,
       "version_minor": 0
      },
      "text/plain": [
       "Batches:   0%|          | 0/1 [00:00<?, ?it/s]"
      ]
     },
     "metadata": {},
     "output_type": "display_data"
    },
    {
     "name": "stderr",
     "output_type": "stream",
     "text": [
      "\r",
      "Analyzing responses:  35%|█████████████████████▎                                       | 14/40 [00:04<00:07,  3.28it/s]"
     ]
    },
    {
     "data": {
      "application/vnd.jupyter.widget-view+json": {
       "model_id": "ce0007f7f1ad4d1c8c4c46589d214d3d",
       "version_major": 2,
       "version_minor": 0
      },
      "text/plain": [
       "Batches:   0%|          | 0/1 [00:00<?, ?it/s]"
      ]
     },
     "metadata": {},
     "output_type": "display_data"
    },
    {
     "data": {
      "application/vnd.jupyter.widget-view+json": {
       "model_id": "25030e7d2d9141838cedd21eba62fa96",
       "version_major": 2,
       "version_minor": 0
      },
      "text/plain": [
       "Batches:   0%|          | 0/1 [00:00<?, ?it/s]"
      ]
     },
     "metadata": {},
     "output_type": "display_data"
    },
    {
     "name": "stderr",
     "output_type": "stream",
     "text": [
      "\r",
      "Analyzing responses:  38%|██████████████████████▉                                      | 15/40 [00:04<00:07,  3.25it/s]"
     ]
    },
    {
     "data": {
      "application/vnd.jupyter.widget-view+json": {
       "model_id": "9c3646f5eff5400da7e4aaf1d7eb42a9",
       "version_major": 2,
       "version_minor": 0
      },
      "text/plain": [
       "Batches:   0%|          | 0/1 [00:00<?, ?it/s]"
      ]
     },
     "metadata": {},
     "output_type": "display_data"
    },
    {
     "data": {
      "application/vnd.jupyter.widget-view+json": {
       "model_id": "4fd3d895ccdd4d1cbc350ea3c947bfc9",
       "version_major": 2,
       "version_minor": 0
      },
      "text/plain": [
       "Batches:   0%|          | 0/1 [00:00<?, ?it/s]"
      ]
     },
     "metadata": {},
     "output_type": "display_data"
    },
    {
     "name": "stderr",
     "output_type": "stream",
     "text": [
      "\r",
      "Analyzing responses:  40%|████████████████████████▍                                    | 16/40 [00:04<00:07,  3.32it/s]"
     ]
    },
    {
     "data": {
      "application/vnd.jupyter.widget-view+json": {
       "model_id": "0506a7e2fbcd4091abe114511850fb30",
       "version_major": 2,
       "version_minor": 0
      },
      "text/plain": [
       "Batches:   0%|          | 0/1 [00:00<?, ?it/s]"
      ]
     },
     "metadata": {},
     "output_type": "display_data"
    },
    {
     "data": {
      "application/vnd.jupyter.widget-view+json": {
       "model_id": "c946b328ec1642c9bfbde3e3f4e6b3dd",
       "version_major": 2,
       "version_minor": 0
      },
      "text/plain": [
       "Batches:   0%|          | 0/1 [00:00<?, ?it/s]"
      ]
     },
     "metadata": {},
     "output_type": "display_data"
    },
    {
     "name": "stderr",
     "output_type": "stream",
     "text": [
      "\r",
      "Analyzing responses:  42%|█████████████████████████▉                                   | 17/40 [00:05<00:07,  3.22it/s]"
     ]
    },
    {
     "data": {
      "application/vnd.jupyter.widget-view+json": {
       "model_id": "40e2e94f5f8348988092ab71727ff3d6",
       "version_major": 2,
       "version_minor": 0
      },
      "text/plain": [
       "Batches:   0%|          | 0/1 [00:00<?, ?it/s]"
      ]
     },
     "metadata": {},
     "output_type": "display_data"
    },
    {
     "data": {
      "application/vnd.jupyter.widget-view+json": {
       "model_id": "7ebcd08054e64398af10f85dba9516c5",
       "version_major": 2,
       "version_minor": 0
      },
      "text/plain": [
       "Batches:   0%|          | 0/1 [00:00<?, ?it/s]"
      ]
     },
     "metadata": {},
     "output_type": "display_data"
    },
    {
     "name": "stderr",
     "output_type": "stream",
     "text": [
      "\r",
      "Analyzing responses:  45%|███████████████████████████▍                                 | 18/40 [00:05<00:06,  3.58it/s]"
     ]
    },
    {
     "data": {
      "application/vnd.jupyter.widget-view+json": {
       "model_id": "809fdf1a25db4440877808b64bfd83bc",
       "version_major": 2,
       "version_minor": 0
      },
      "text/plain": [
       "Batches:   0%|          | 0/1 [00:00<?, ?it/s]"
      ]
     },
     "metadata": {},
     "output_type": "display_data"
    },
    {
     "data": {
      "application/vnd.jupyter.widget-view+json": {
       "model_id": "692cfcd922c748b3bb52119cd971a2be",
       "version_major": 2,
       "version_minor": 0
      },
      "text/plain": [
       "Batches:   0%|          | 0/1 [00:00<?, ?it/s]"
      ]
     },
     "metadata": {},
     "output_type": "display_data"
    },
    {
     "name": "stderr",
     "output_type": "stream",
     "text": [
      "\r",
      "Analyzing responses:  48%|████████████████████████████▉                                | 19/40 [00:05<00:05,  3.83it/s]"
     ]
    },
    {
     "data": {
      "application/vnd.jupyter.widget-view+json": {
       "model_id": "20fdc90f69f046b4b654427fb9aaacfb",
       "version_major": 2,
       "version_minor": 0
      },
      "text/plain": [
       "Batches:   0%|          | 0/1 [00:00<?, ?it/s]"
      ]
     },
     "metadata": {},
     "output_type": "display_data"
    },
    {
     "data": {
      "application/vnd.jupyter.widget-view+json": {
       "model_id": "a8e942a4cac24c609123853e93793bff",
       "version_major": 2,
       "version_minor": 0
      },
      "text/plain": [
       "Batches:   0%|          | 0/1 [00:00<?, ?it/s]"
      ]
     },
     "metadata": {},
     "output_type": "display_data"
    },
    {
     "name": "stderr",
     "output_type": "stream",
     "text": [
      "\r",
      "Analyzing responses:  50%|██████████████████████████████▌                              | 20/40 [00:06<00:05,  3.62it/s]"
     ]
    },
    {
     "data": {
      "application/vnd.jupyter.widget-view+json": {
       "model_id": "830bfcb3f25a409cbd9aa9e8d40263ba",
       "version_major": 2,
       "version_minor": 0
      },
      "text/plain": [
       "Batches:   0%|          | 0/1 [00:00<?, ?it/s]"
      ]
     },
     "metadata": {},
     "output_type": "display_data"
    },
    {
     "data": {
      "application/vnd.jupyter.widget-view+json": {
       "model_id": "bf5ecd9d13df40999a148fc8623ae897",
       "version_major": 2,
       "version_minor": 0
      },
      "text/plain": [
       "Batches:   0%|          | 0/1 [00:00<?, ?it/s]"
      ]
     },
     "metadata": {},
     "output_type": "display_data"
    },
    {
     "name": "stderr",
     "output_type": "stream",
     "text": [
      "\r",
      "Analyzing responses:  52%|████████████████████████████████                             | 21/40 [00:06<00:05,  3.44it/s]"
     ]
    },
    {
     "data": {
      "application/vnd.jupyter.widget-view+json": {
       "model_id": "3f517410fcd54a0bbcf41dd7af62053d",
       "version_major": 2,
       "version_minor": 0
      },
      "text/plain": [
       "Batches:   0%|          | 0/1 [00:00<?, ?it/s]"
      ]
     },
     "metadata": {},
     "output_type": "display_data"
    },
    {
     "data": {
      "application/vnd.jupyter.widget-view+json": {
       "model_id": "cafb84f586c246c9b1272e40ced74520",
       "version_major": 2,
       "version_minor": 0
      },
      "text/plain": [
       "Batches:   0%|          | 0/1 [00:00<?, ?it/s]"
      ]
     },
     "metadata": {},
     "output_type": "display_data"
    },
    {
     "name": "stderr",
     "output_type": "stream",
     "text": [
      "\r",
      "Analyzing responses:  55%|█████████████████████████████████▌                           | 22/40 [00:06<00:04,  3.74it/s]"
     ]
    },
    {
     "data": {
      "application/vnd.jupyter.widget-view+json": {
       "model_id": "1d04786618934d0185b66200a2dc91cc",
       "version_major": 2,
       "version_minor": 0
      },
      "text/plain": [
       "Batches:   0%|          | 0/1 [00:00<?, ?it/s]"
      ]
     },
     "metadata": {},
     "output_type": "display_data"
    },
    {
     "data": {
      "application/vnd.jupyter.widget-view+json": {
       "model_id": "5b83ac8535f1407796680cd3015e877f",
       "version_major": 2,
       "version_minor": 0
      },
      "text/plain": [
       "Batches:   0%|          | 0/1 [00:00<?, ?it/s]"
      ]
     },
     "metadata": {},
     "output_type": "display_data"
    },
    {
     "name": "stderr",
     "output_type": "stream",
     "text": [
      "\r",
      "Analyzing responses:  57%|███████████████████████████████████                          | 23/40 [00:06<00:04,  3.58it/s]"
     ]
    },
    {
     "data": {
      "application/vnd.jupyter.widget-view+json": {
       "model_id": "2454988aa0be4d3ab1626a9a3aecee10",
       "version_major": 2,
       "version_minor": 0
      },
      "text/plain": [
       "Batches:   0%|          | 0/1 [00:00<?, ?it/s]"
      ]
     },
     "metadata": {},
     "output_type": "display_data"
    },
    {
     "data": {
      "application/vnd.jupyter.widget-view+json": {
       "model_id": "d71fccb7453e484184c1c32a5f5574d1",
       "version_major": 2,
       "version_minor": 0
      },
      "text/plain": [
       "Batches:   0%|          | 0/1 [00:00<?, ?it/s]"
      ]
     },
     "metadata": {},
     "output_type": "display_data"
    },
    {
     "name": "stderr",
     "output_type": "stream",
     "text": [
      "\r",
      "Analyzing responses:  60%|████████████████████████████████████▌                        | 24/40 [00:07<00:04,  3.44it/s]"
     ]
    },
    {
     "data": {
      "application/vnd.jupyter.widget-view+json": {
       "model_id": "c78d808f45294a7b8722fd09404d4005",
       "version_major": 2,
       "version_minor": 0
      },
      "text/plain": [
       "Batches:   0%|          | 0/1 [00:00<?, ?it/s]"
      ]
     },
     "metadata": {},
     "output_type": "display_data"
    },
    {
     "data": {
      "application/vnd.jupyter.widget-view+json": {
       "model_id": "df64e1dd31d54d8994e8bbe90318d8ee",
       "version_major": 2,
       "version_minor": 0
      },
      "text/plain": [
       "Batches:   0%|          | 0/1 [00:00<?, ?it/s]"
      ]
     },
     "metadata": {},
     "output_type": "display_data"
    },
    {
     "name": "stderr",
     "output_type": "stream",
     "text": [
      "\r",
      "Analyzing responses:  62%|██████████████████████████████████████▏                      | 25/40 [00:07<00:04,  3.73it/s]"
     ]
    },
    {
     "data": {
      "application/vnd.jupyter.widget-view+json": {
       "model_id": "ec6a70c755c8475db96aac7a0c885d1b",
       "version_major": 2,
       "version_minor": 0
      },
      "text/plain": [
       "Batches:   0%|          | 0/1 [00:00<?, ?it/s]"
      ]
     },
     "metadata": {},
     "output_type": "display_data"
    },
    {
     "data": {
      "application/vnd.jupyter.widget-view+json": {
       "model_id": "f2f91589e10f4b388cee9c99cfb494ef",
       "version_major": 2,
       "version_minor": 0
      },
      "text/plain": [
       "Batches:   0%|          | 0/1 [00:00<?, ?it/s]"
      ]
     },
     "metadata": {},
     "output_type": "display_data"
    },
    {
     "name": "stderr",
     "output_type": "stream",
     "text": [
      "\r",
      "Analyzing responses:  65%|███████████████████████████████████████▋                     | 26/40 [00:07<00:03,  3.53it/s]"
     ]
    },
    {
     "data": {
      "application/vnd.jupyter.widget-view+json": {
       "model_id": "15fa0a17014c4713a29b7380a93ff6a7",
       "version_major": 2,
       "version_minor": 0
      },
      "text/plain": [
       "Batches:   0%|          | 0/1 [00:00<?, ?it/s]"
      ]
     },
     "metadata": {},
     "output_type": "display_data"
    },
    {
     "data": {
      "application/vnd.jupyter.widget-view+json": {
       "model_id": "dfcddfca36ae4067b6a99be7cc620aeb",
       "version_major": 2,
       "version_minor": 0
      },
      "text/plain": [
       "Batches:   0%|          | 0/1 [00:00<?, ?it/s]"
      ]
     },
     "metadata": {},
     "output_type": "display_data"
    },
    {
     "name": "stderr",
     "output_type": "stream",
     "text": [
      "\r",
      "Analyzing responses:  68%|█████████████████████████████████████████▏                   | 27/40 [00:07<00:03,  3.81it/s]"
     ]
    },
    {
     "data": {
      "application/vnd.jupyter.widget-view+json": {
       "model_id": "f23de709247c4cf8bce4211fcf50de95",
       "version_major": 2,
       "version_minor": 0
      },
      "text/plain": [
       "Batches:   0%|          | 0/1 [00:00<?, ?it/s]"
      ]
     },
     "metadata": {},
     "output_type": "display_data"
    },
    {
     "data": {
      "application/vnd.jupyter.widget-view+json": {
       "model_id": "76cc4045557141538fcc03a35e94818e",
       "version_major": 2,
       "version_minor": 0
      },
      "text/plain": [
       "Batches:   0%|          | 0/1 [00:00<?, ?it/s]"
      ]
     },
     "metadata": {},
     "output_type": "display_data"
    },
    {
     "name": "stderr",
     "output_type": "stream",
     "text": [
      "\r",
      "Analyzing responses:  70%|██████████████████████████████████████████▋                  | 28/40 [00:08<00:03,  3.48it/s]"
     ]
    },
    {
     "data": {
      "application/vnd.jupyter.widget-view+json": {
       "model_id": "5f61b0ef38e441838b6bcd01e436cead",
       "version_major": 2,
       "version_minor": 0
      },
      "text/plain": [
       "Batches:   0%|          | 0/1 [00:00<?, ?it/s]"
      ]
     },
     "metadata": {},
     "output_type": "display_data"
    },
    {
     "data": {
      "application/vnd.jupyter.widget-view+json": {
       "model_id": "648f2d73971d43b5ba55c4ab23b04388",
       "version_major": 2,
       "version_minor": 0
      },
      "text/plain": [
       "Batches:   0%|          | 0/1 [00:00<?, ?it/s]"
      ]
     },
     "metadata": {},
     "output_type": "display_data"
    },
    {
     "name": "stderr",
     "output_type": "stream",
     "text": [
      "\r",
      "Analyzing responses:  72%|████████████████████████████████████████████▏                | 29/40 [00:08<00:03,  3.27it/s]"
     ]
    },
    {
     "data": {
      "application/vnd.jupyter.widget-view+json": {
       "model_id": "69342169c44e40338bf45e98070f607a",
       "version_major": 2,
       "version_minor": 0
      },
      "text/plain": [
       "Batches:   0%|          | 0/1 [00:00<?, ?it/s]"
      ]
     },
     "metadata": {},
     "output_type": "display_data"
    },
    {
     "data": {
      "application/vnd.jupyter.widget-view+json": {
       "model_id": "119f40c323c144219e1a11ac5b580af5",
       "version_major": 2,
       "version_minor": 0
      },
      "text/plain": [
       "Batches:   0%|          | 0/1 [00:00<?, ?it/s]"
      ]
     },
     "metadata": {},
     "output_type": "display_data"
    },
    {
     "name": "stderr",
     "output_type": "stream",
     "text": [
      "\r",
      "Analyzing responses:  75%|█████████████████████████████████████████████▊               | 30/40 [00:08<00:03,  3.25it/s]"
     ]
    },
    {
     "data": {
      "application/vnd.jupyter.widget-view+json": {
       "model_id": "3e6b540fd4064b349ce3a7f1e1facce5",
       "version_major": 2,
       "version_minor": 0
      },
      "text/plain": [
       "Batches:   0%|          | 0/1 [00:00<?, ?it/s]"
      ]
     },
     "metadata": {},
     "output_type": "display_data"
    },
    {
     "data": {
      "application/vnd.jupyter.widget-view+json": {
       "model_id": "38bfe0facccc4e5790b7dabb48c77a58",
       "version_major": 2,
       "version_minor": 0
      },
      "text/plain": [
       "Batches:   0%|          | 0/1 [00:00<?, ?it/s]"
      ]
     },
     "metadata": {},
     "output_type": "display_data"
    },
    {
     "name": "stderr",
     "output_type": "stream",
     "text": [
      "\r",
      "Analyzing responses:  78%|███████████████████████████████████████████████▎             | 31/40 [00:09<00:02,  3.25it/s]"
     ]
    },
    {
     "data": {
      "application/vnd.jupyter.widget-view+json": {
       "model_id": "3d42187eafcc4060bc0556e33f7ffa0d",
       "version_major": 2,
       "version_minor": 0
      },
      "text/plain": [
       "Batches:   0%|          | 0/1 [00:00<?, ?it/s]"
      ]
     },
     "metadata": {},
     "output_type": "display_data"
    },
    {
     "data": {
      "application/vnd.jupyter.widget-view+json": {
       "model_id": "5438fd6f628c4a639c20769f9751942b",
       "version_major": 2,
       "version_minor": 0
      },
      "text/plain": [
       "Batches:   0%|          | 0/1 [00:00<?, ?it/s]"
      ]
     },
     "metadata": {},
     "output_type": "display_data"
    },
    {
     "name": "stderr",
     "output_type": "stream",
     "text": [
      "\r",
      "Analyzing responses:  80%|████████████████████████████████████████████████▊            | 32/40 [00:09<00:02,  3.24it/s]"
     ]
    },
    {
     "data": {
      "application/vnd.jupyter.widget-view+json": {
       "model_id": "4b5009d8717d431da0e3b6a8f82aca51",
       "version_major": 2,
       "version_minor": 0
      },
      "text/plain": [
       "Batches:   0%|          | 0/1 [00:00<?, ?it/s]"
      ]
     },
     "metadata": {},
     "output_type": "display_data"
    },
    {
     "data": {
      "application/vnd.jupyter.widget-view+json": {
       "model_id": "29f5834a71354a819e9f2618dd287238",
       "version_major": 2,
       "version_minor": 0
      },
      "text/plain": [
       "Batches:   0%|          | 0/1 [00:00<?, ?it/s]"
      ]
     },
     "metadata": {},
     "output_type": "display_data"
    },
    {
     "name": "stderr",
     "output_type": "stream",
     "text": [
      "\r",
      "Analyzing responses:  82%|██████████████████████████████████████████████████▎          | 33/40 [00:09<00:02,  3.16it/s]"
     ]
    },
    {
     "data": {
      "application/vnd.jupyter.widget-view+json": {
       "model_id": "15265f20061f4d078d7c2cc826acdabb",
       "version_major": 2,
       "version_minor": 0
      },
      "text/plain": [
       "Batches:   0%|          | 0/1 [00:00<?, ?it/s]"
      ]
     },
     "metadata": {},
     "output_type": "display_data"
    },
    {
     "data": {
      "application/vnd.jupyter.widget-view+json": {
       "model_id": "a23924c9e4cd44f58f6351e67b6f86dc",
       "version_major": 2,
       "version_minor": 0
      },
      "text/plain": [
       "Batches:   0%|          | 0/1 [00:00<?, ?it/s]"
      ]
     },
     "metadata": {},
     "output_type": "display_data"
    },
    {
     "name": "stderr",
     "output_type": "stream",
     "text": [
      "\r",
      "Analyzing responses:  85%|███████████████████████████████████████████████████▊         | 34/40 [00:10<00:01,  3.05it/s]"
     ]
    },
    {
     "data": {
      "application/vnd.jupyter.widget-view+json": {
       "model_id": "96bf95b36946414292f9504b067c8bfc",
       "version_major": 2,
       "version_minor": 0
      },
      "text/plain": [
       "Batches:   0%|          | 0/1 [00:00<?, ?it/s]"
      ]
     },
     "metadata": {},
     "output_type": "display_data"
    },
    {
     "data": {
      "application/vnd.jupyter.widget-view+json": {
       "model_id": "9a9f6a23f708420eb3202a2bbe9aed22",
       "version_major": 2,
       "version_minor": 0
      },
      "text/plain": [
       "Batches:   0%|          | 0/1 [00:00<?, ?it/s]"
      ]
     },
     "metadata": {},
     "output_type": "display_data"
    },
    {
     "name": "stderr",
     "output_type": "stream",
     "text": [
      "\r",
      "Analyzing responses:  88%|█████████████████████████████████████████████████████▍       | 35/40 [00:10<00:01,  3.03it/s]"
     ]
    },
    {
     "data": {
      "application/vnd.jupyter.widget-view+json": {
       "model_id": "3304fad57fd04e0aa2ef0540ce2e66bb",
       "version_major": 2,
       "version_minor": 0
      },
      "text/plain": [
       "Batches:   0%|          | 0/1 [00:00<?, ?it/s]"
      ]
     },
     "metadata": {},
     "output_type": "display_data"
    },
    {
     "data": {
      "application/vnd.jupyter.widget-view+json": {
       "model_id": "3c74bfdda4bc44a2a62d2db847e31f02",
       "version_major": 2,
       "version_minor": 0
      },
      "text/plain": [
       "Batches:   0%|          | 0/1 [00:00<?, ?it/s]"
      ]
     },
     "metadata": {},
     "output_type": "display_data"
    },
    {
     "name": "stderr",
     "output_type": "stream",
     "text": [
      "\r",
      "Analyzing responses:  90%|██████████████████████████████████████████████████████▉      | 36/40 [00:10<00:01,  3.40it/s]"
     ]
    },
    {
     "data": {
      "application/vnd.jupyter.widget-view+json": {
       "model_id": "fee89c27b307404d9239280e396faa5b",
       "version_major": 2,
       "version_minor": 0
      },
      "text/plain": [
       "Batches:   0%|          | 0/1 [00:00<?, ?it/s]"
      ]
     },
     "metadata": {},
     "output_type": "display_data"
    },
    {
     "data": {
      "application/vnd.jupyter.widget-view+json": {
       "model_id": "a536ea80684146fab3c0335edd592558",
       "version_major": 2,
       "version_minor": 0
      },
      "text/plain": [
       "Batches:   0%|          | 0/1 [00:00<?, ?it/s]"
      ]
     },
     "metadata": {},
     "output_type": "display_data"
    },
    {
     "name": "stderr",
     "output_type": "stream",
     "text": [
      "\r",
      "Analyzing responses:  92%|████████████████████████████████████████████████████████▍    | 37/40 [00:11<00:00,  3.35it/s]"
     ]
    },
    {
     "data": {
      "application/vnd.jupyter.widget-view+json": {
       "model_id": "d4a18176512c48d8ae10dcd468852694",
       "version_major": 2,
       "version_minor": 0
      },
      "text/plain": [
       "Batches:   0%|          | 0/1 [00:00<?, ?it/s]"
      ]
     },
     "metadata": {},
     "output_type": "display_data"
    },
    {
     "data": {
      "application/vnd.jupyter.widget-view+json": {
       "model_id": "86caeaad1fdb446d945246c3a54ec628",
       "version_major": 2,
       "version_minor": 0
      },
      "text/plain": [
       "Batches:   0%|          | 0/1 [00:00<?, ?it/s]"
      ]
     },
     "metadata": {},
     "output_type": "display_data"
    },
    {
     "name": "stderr",
     "output_type": "stream",
     "text": [
      "\r",
      "Analyzing responses:  95%|█████████████████████████████████████████████████████████▉   | 38/40 [00:11<00:00,  3.66it/s]"
     ]
    },
    {
     "data": {
      "application/vnd.jupyter.widget-view+json": {
       "model_id": "2215cd7578e9485d96319d03e93918e0",
       "version_major": 2,
       "version_minor": 0
      },
      "text/plain": [
       "Batches:   0%|          | 0/1 [00:00<?, ?it/s]"
      ]
     },
     "metadata": {},
     "output_type": "display_data"
    },
    {
     "data": {
      "application/vnd.jupyter.widget-view+json": {
       "model_id": "74e847e19af74589aafe5aff644fe984",
       "version_major": 2,
       "version_minor": 0
      },
      "text/plain": [
       "Batches:   0%|          | 0/1 [00:00<?, ?it/s]"
      ]
     },
     "metadata": {},
     "output_type": "display_data"
    },
    {
     "name": "stderr",
     "output_type": "stream",
     "text": [
      "\r",
      "Analyzing responses:  98%|███████████████████████████████████████████████████████████▍ | 39/40 [00:11<00:00,  3.52it/s]"
     ]
    },
    {
     "data": {
      "application/vnd.jupyter.widget-view+json": {
       "model_id": "0f49fcd973f645559b7722cb10faa1c5",
       "version_major": 2,
       "version_minor": 0
      },
      "text/plain": [
       "Batches:   0%|          | 0/1 [00:00<?, ?it/s]"
      ]
     },
     "metadata": {},
     "output_type": "display_data"
    },
    {
     "data": {
      "application/vnd.jupyter.widget-view+json": {
       "model_id": "ee5fec06b84c4c269f35bc04ca924880",
       "version_major": 2,
       "version_minor": 0
      },
      "text/plain": [
       "Batches:   0%|          | 0/1 [00:00<?, ?it/s]"
      ]
     },
     "metadata": {},
     "output_type": "display_data"
    },
    {
     "name": "stderr",
     "output_type": "stream",
     "text": [
      "Analyzing responses: 100%|█████████████████████████████████████████████████████████████| 40/40 [00:11<00:00,  3.36it/s]"
     ]
    },
    {
     "name": "stdout",
     "output_type": "stream",
     "text": [
      "\n",
      "Summary Metrics:\n",
      "Average Faithfulness: 0.6282\n",
      "Average Hallucination: 0.3718\n",
      "Average Coverage: 0.6131\n"
     ]
    },
    {
     "name": "stderr",
     "output_type": "stream",
     "text": [
      "\n"
     ]
    }
   ],
   "source": [
    "\n",
    "# Example usage:\n",
    "\n",
    "calculator = FaithfulnessCalculator('hybrid_evaluation/qna_content.json')\n",
    "results = calculator.analyze_rag_results()\n",
    "\n",
    "print(\"\\nSummary Metrics:\")\n",
    "print(f\"Average Faithfulness: {results['summary']['average_faithfulness']:.4f}\")\n",
    "print(f\"Average Hallucination: {results['summary']['average_hallucination']:.4f}\")\n",
    "print(f\"Average Coverage: {results['summary']['average_coverage']:.4f}\")\n"
   ]
  },
  {
   "cell_type": "code",
   "execution_count": 30,
   "id": "896eca74",
   "metadata": {},
   "outputs": [
    {
     "name": "stderr",
     "output_type": "stream",
     "text": [
      "\r",
      "Analyzing responses:   0%|                                                                      | 0/40 [00:00<?, ?it/s]"
     ]
    },
    {
     "data": {
      "application/vnd.jupyter.widget-view+json": {
       "model_id": "16bcf28f25934efe9c984a110477b81e",
       "version_major": 2,
       "version_minor": 0
      },
      "text/plain": [
       "Batches:   0%|          | 0/1 [00:00<?, ?it/s]"
      ]
     },
     "metadata": {},
     "output_type": "display_data"
    },
    {
     "data": {
      "application/vnd.jupyter.widget-view+json": {
       "model_id": "4dd0f24a25ea4ed8b34465ccc8c8b814",
       "version_major": 2,
       "version_minor": 0
      },
      "text/plain": [
       "Batches:   0%|          | 0/1 [00:00<?, ?it/s]"
      ]
     },
     "metadata": {},
     "output_type": "display_data"
    },
    {
     "name": "stderr",
     "output_type": "stream",
     "text": [
      "\r",
      "Analyzing responses:   2%|█▌                                                            | 1/40 [00:00<00:12,  3.10it/s]"
     ]
    },
    {
     "data": {
      "application/vnd.jupyter.widget-view+json": {
       "model_id": "b107ddbd8f1a4cc1b631a2ef22ff7aca",
       "version_major": 2,
       "version_minor": 0
      },
      "text/plain": [
       "Batches:   0%|          | 0/1 [00:00<?, ?it/s]"
      ]
     },
     "metadata": {},
     "output_type": "display_data"
    },
    {
     "data": {
      "application/vnd.jupyter.widget-view+json": {
       "model_id": "cec28fd03bfc4187b040ddda91953eb1",
       "version_major": 2,
       "version_minor": 0
      },
      "text/plain": [
       "Batches:   0%|          | 0/1 [00:00<?, ?it/s]"
      ]
     },
     "metadata": {},
     "output_type": "display_data"
    },
    {
     "name": "stderr",
     "output_type": "stream",
     "text": [
      "\r",
      "Analyzing responses:   5%|███                                                           | 2/40 [00:00<00:13,  2.83it/s]"
     ]
    },
    {
     "data": {
      "application/vnd.jupyter.widget-view+json": {
       "model_id": "2973d2ce14334f23a4585da2904e3014",
       "version_major": 2,
       "version_minor": 0
      },
      "text/plain": [
       "Batches:   0%|          | 0/1 [00:00<?, ?it/s]"
      ]
     },
     "metadata": {},
     "output_type": "display_data"
    },
    {
     "data": {
      "application/vnd.jupyter.widget-view+json": {
       "model_id": "3475d22d10df4b0ebc3924a4d17a5c56",
       "version_major": 2,
       "version_minor": 0
      },
      "text/plain": [
       "Batches:   0%|          | 0/1 [00:00<?, ?it/s]"
      ]
     },
     "metadata": {},
     "output_type": "display_data"
    },
    {
     "name": "stderr",
     "output_type": "stream",
     "text": [
      "\r",
      "Analyzing responses:   8%|████▋                                                         | 3/40 [00:01<00:14,  2.54it/s]"
     ]
    },
    {
     "data": {
      "application/vnd.jupyter.widget-view+json": {
       "model_id": "bacac3265c694597bbf03f3cada8ac4c",
       "version_major": 2,
       "version_minor": 0
      },
      "text/plain": [
       "Batches:   0%|          | 0/1 [00:00<?, ?it/s]"
      ]
     },
     "metadata": {},
     "output_type": "display_data"
    },
    {
     "data": {
      "application/vnd.jupyter.widget-view+json": {
       "model_id": "e28203c6225841f48682c1156197c853",
       "version_major": 2,
       "version_minor": 0
      },
      "text/plain": [
       "Batches:   0%|          | 0/1 [00:00<?, ?it/s]"
      ]
     },
     "metadata": {},
     "output_type": "display_data"
    },
    {
     "name": "stderr",
     "output_type": "stream",
     "text": [
      "\r",
      "Analyzing responses:  10%|██████▏                                                       | 4/40 [00:01<00:14,  2.55it/s]"
     ]
    },
    {
     "data": {
      "application/vnd.jupyter.widget-view+json": {
       "model_id": "fa637f2324df44f798723381ad3bdc03",
       "version_major": 2,
       "version_minor": 0
      },
      "text/plain": [
       "Batches:   0%|          | 0/1 [00:00<?, ?it/s]"
      ]
     },
     "metadata": {},
     "output_type": "display_data"
    },
    {
     "data": {
      "application/vnd.jupyter.widget-view+json": {
       "model_id": "e0f9375444354062a65a5f1033f82420",
       "version_major": 2,
       "version_minor": 0
      },
      "text/plain": [
       "Batches:   0%|          | 0/1 [00:00<?, ?it/s]"
      ]
     },
     "metadata": {},
     "output_type": "display_data"
    },
    {
     "name": "stderr",
     "output_type": "stream",
     "text": [
      "\r",
      "Analyzing responses:  12%|███████▊                                                      | 5/40 [00:01<00:13,  2.68it/s]"
     ]
    },
    {
     "data": {
      "application/vnd.jupyter.widget-view+json": {
       "model_id": "1598cb2559414559b4e65d7c2ef5b8ab",
       "version_major": 2,
       "version_minor": 0
      },
      "text/plain": [
       "Batches:   0%|          | 0/1 [00:00<?, ?it/s]"
      ]
     },
     "metadata": {},
     "output_type": "display_data"
    },
    {
     "data": {
      "application/vnd.jupyter.widget-view+json": {
       "model_id": "3cda5ed7963648d4ba4ef572b851be83",
       "version_major": 2,
       "version_minor": 0
      },
      "text/plain": [
       "Batches:   0%|          | 0/1 [00:00<?, ?it/s]"
      ]
     },
     "metadata": {},
     "output_type": "display_data"
    },
    {
     "name": "stderr",
     "output_type": "stream",
     "text": [
      "\r",
      "Analyzing responses:  15%|█████████▎                                                    | 6/40 [00:02<00:12,  2.75it/s]"
     ]
    },
    {
     "data": {
      "application/vnd.jupyter.widget-view+json": {
       "model_id": "dea850cd0b034a4f8570966fa0d37eda",
       "version_major": 2,
       "version_minor": 0
      },
      "text/plain": [
       "Batches:   0%|          | 0/1 [00:00<?, ?it/s]"
      ]
     },
     "metadata": {},
     "output_type": "display_data"
    },
    {
     "data": {
      "application/vnd.jupyter.widget-view+json": {
       "model_id": "19c5dda90da441fb8b791cf474c4d096",
       "version_major": 2,
       "version_minor": 0
      },
      "text/plain": [
       "Batches:   0%|          | 0/1 [00:00<?, ?it/s]"
      ]
     },
     "metadata": {},
     "output_type": "display_data"
    },
    {
     "name": "stderr",
     "output_type": "stream",
     "text": [
      "\r",
      "Analyzing responses:  18%|██████████▊                                                   | 7/40 [00:02<00:12,  2.74it/s]"
     ]
    },
    {
     "data": {
      "application/vnd.jupyter.widget-view+json": {
       "model_id": "f2cf56f2c0cc45ac8da44535e04076e0",
       "version_major": 2,
       "version_minor": 0
      },
      "text/plain": [
       "Batches:   0%|          | 0/1 [00:00<?, ?it/s]"
      ]
     },
     "metadata": {},
     "output_type": "display_data"
    },
    {
     "data": {
      "application/vnd.jupyter.widget-view+json": {
       "model_id": "0fcc19aa47474feda6285dfb02ef285c",
       "version_major": 2,
       "version_minor": 0
      },
      "text/plain": [
       "Batches:   0%|          | 0/1 [00:00<?, ?it/s]"
      ]
     },
     "metadata": {},
     "output_type": "display_data"
    },
    {
     "name": "stderr",
     "output_type": "stream",
     "text": [
      "\r",
      "Analyzing responses:  20%|████████████▍                                                 | 8/40 [00:02<00:11,  2.79it/s]"
     ]
    },
    {
     "data": {
      "application/vnd.jupyter.widget-view+json": {
       "model_id": "c1209bb4225941fda292b3269d3b43df",
       "version_major": 2,
       "version_minor": 0
      },
      "text/plain": [
       "Batches:   0%|          | 0/1 [00:00<?, ?it/s]"
      ]
     },
     "metadata": {},
     "output_type": "display_data"
    },
    {
     "data": {
      "application/vnd.jupyter.widget-view+json": {
       "model_id": "e68a8307e0c74ba19507709eacb541a1",
       "version_major": 2,
       "version_minor": 0
      },
      "text/plain": [
       "Batches:   0%|          | 0/1 [00:00<?, ?it/s]"
      ]
     },
     "metadata": {},
     "output_type": "display_data"
    },
    {
     "name": "stderr",
     "output_type": "stream",
     "text": [
      "\r",
      "Analyzing responses:  22%|█████████████▉                                                | 9/40 [00:03<00:10,  2.85it/s]"
     ]
    },
    {
     "data": {
      "application/vnd.jupyter.widget-view+json": {
       "model_id": "5c2fd1ae92324100b9e3610cf8b8e54b",
       "version_major": 2,
       "version_minor": 0
      },
      "text/plain": [
       "Batches:   0%|          | 0/1 [00:00<?, ?it/s]"
      ]
     },
     "metadata": {},
     "output_type": "display_data"
    },
    {
     "data": {
      "application/vnd.jupyter.widget-view+json": {
       "model_id": "1e6be28da8344a6eb52dd37d10eb088d",
       "version_major": 2,
       "version_minor": 0
      },
      "text/plain": [
       "Batches:   0%|          | 0/1 [00:00<?, ?it/s]"
      ]
     },
     "metadata": {},
     "output_type": "display_data"
    },
    {
     "name": "stderr",
     "output_type": "stream",
     "text": [
      "\r",
      "Analyzing responses:  25%|███████████████▎                                             | 10/40 [00:03<00:10,  2.90it/s]"
     ]
    },
    {
     "data": {
      "application/vnd.jupyter.widget-view+json": {
       "model_id": "cf5596642ae140ae9f21d36c51ba49d9",
       "version_major": 2,
       "version_minor": 0
      },
      "text/plain": [
       "Batches:   0%|          | 0/1 [00:00<?, ?it/s]"
      ]
     },
     "metadata": {},
     "output_type": "display_data"
    },
    {
     "data": {
      "application/vnd.jupyter.widget-view+json": {
       "model_id": "48f406d2aeda42e18c2f32ac344aaffa",
       "version_major": 2,
       "version_minor": 0
      },
      "text/plain": [
       "Batches:   0%|          | 0/1 [00:00<?, ?it/s]"
      ]
     },
     "metadata": {},
     "output_type": "display_data"
    },
    {
     "name": "stderr",
     "output_type": "stream",
     "text": [
      "\r",
      "Analyzing responses:  28%|████████████████▊                                            | 11/40 [00:03<00:09,  2.93it/s]"
     ]
    },
    {
     "data": {
      "application/vnd.jupyter.widget-view+json": {
       "model_id": "5674fb6205ed4e84af2a2e4fc5984f49",
       "version_major": 2,
       "version_minor": 0
      },
      "text/plain": [
       "Batches:   0%|          | 0/1 [00:00<?, ?it/s]"
      ]
     },
     "metadata": {},
     "output_type": "display_data"
    },
    {
     "data": {
      "application/vnd.jupyter.widget-view+json": {
       "model_id": "07e1ae4b882a4c81b70a6c2380abff4e",
       "version_major": 2,
       "version_minor": 0
      },
      "text/plain": [
       "Batches:   0%|          | 0/1 [00:00<?, ?it/s]"
      ]
     },
     "metadata": {},
     "output_type": "display_data"
    },
    {
     "name": "stderr",
     "output_type": "stream",
     "text": [
      "\r",
      "Analyzing responses:  30%|██████████████████▎                                          | 12/40 [00:04<00:09,  2.98it/s]"
     ]
    },
    {
     "data": {
      "application/vnd.jupyter.widget-view+json": {
       "model_id": "b78762212eaf4b6295291b01b96d4581",
       "version_major": 2,
       "version_minor": 0
      },
      "text/plain": [
       "Batches:   0%|          | 0/1 [00:00<?, ?it/s]"
      ]
     },
     "metadata": {},
     "output_type": "display_data"
    },
    {
     "data": {
      "application/vnd.jupyter.widget-view+json": {
       "model_id": "8ef6d2be887849e892d701ff368cfcd1",
       "version_major": 2,
       "version_minor": 0
      },
      "text/plain": [
       "Batches:   0%|          | 0/1 [00:00<?, ?it/s]"
      ]
     },
     "metadata": {},
     "output_type": "display_data"
    },
    {
     "name": "stderr",
     "output_type": "stream",
     "text": [
      "\r",
      "Analyzing responses:  32%|███████████████████▊                                         | 13/40 [00:04<00:09,  2.90it/s]"
     ]
    },
    {
     "data": {
      "application/vnd.jupyter.widget-view+json": {
       "model_id": "efaabc9de3e445cda83bd34feff8cf6c",
       "version_major": 2,
       "version_minor": 0
      },
      "text/plain": [
       "Batches:   0%|          | 0/1 [00:00<?, ?it/s]"
      ]
     },
     "metadata": {},
     "output_type": "display_data"
    },
    {
     "data": {
      "application/vnd.jupyter.widget-view+json": {
       "model_id": "62d3b48e2b0545a0866e78d7141aa449",
       "version_major": 2,
       "version_minor": 0
      },
      "text/plain": [
       "Batches:   0%|          | 0/1 [00:00<?, ?it/s]"
      ]
     },
     "metadata": {},
     "output_type": "display_data"
    },
    {
     "name": "stderr",
     "output_type": "stream",
     "text": [
      "\r",
      "Analyzing responses:  35%|█████████████████████▎                                       | 14/40 [00:04<00:08,  2.93it/s]"
     ]
    },
    {
     "data": {
      "application/vnd.jupyter.widget-view+json": {
       "model_id": "7fabc5c5cf5645c9afbd2f27522ec974",
       "version_major": 2,
       "version_minor": 0
      },
      "text/plain": [
       "Batches:   0%|          | 0/1 [00:00<?, ?it/s]"
      ]
     },
     "metadata": {},
     "output_type": "display_data"
    },
    {
     "data": {
      "application/vnd.jupyter.widget-view+json": {
       "model_id": "34f76e3db0f7419b82e91b8104f51687",
       "version_major": 2,
       "version_minor": 0
      },
      "text/plain": [
       "Batches:   0%|          | 0/1 [00:00<?, ?it/s]"
      ]
     },
     "metadata": {},
     "output_type": "display_data"
    },
    {
     "name": "stderr",
     "output_type": "stream",
     "text": [
      "\r",
      "Analyzing responses:  38%|██████████████████████▉                                      | 15/40 [00:05<00:08,  2.93it/s]"
     ]
    },
    {
     "data": {
      "application/vnd.jupyter.widget-view+json": {
       "model_id": "de5c0fe18f6a4591bdc9c4eb50fec9e5",
       "version_major": 2,
       "version_minor": 0
      },
      "text/plain": [
       "Batches:   0%|          | 0/1 [00:00<?, ?it/s]"
      ]
     },
     "metadata": {},
     "output_type": "display_data"
    },
    {
     "data": {
      "application/vnd.jupyter.widget-view+json": {
       "model_id": "8c3cada2a496420d967e7e65e3d4519e",
       "version_major": 2,
       "version_minor": 0
      },
      "text/plain": [
       "Batches:   0%|          | 0/1 [00:00<?, ?it/s]"
      ]
     },
     "metadata": {},
     "output_type": "display_data"
    },
    {
     "name": "stderr",
     "output_type": "stream",
     "text": [
      "\r",
      "Analyzing responses:  40%|████████████████████████▍                                    | 16/40 [00:05<00:08,  2.88it/s]"
     ]
    },
    {
     "data": {
      "application/vnd.jupyter.widget-view+json": {
       "model_id": "1fb34522242049a29a193177d77162f8",
       "version_major": 2,
       "version_minor": 0
      },
      "text/plain": [
       "Batches:   0%|          | 0/1 [00:00<?, ?it/s]"
      ]
     },
     "metadata": {},
     "output_type": "display_data"
    },
    {
     "data": {
      "application/vnd.jupyter.widget-view+json": {
       "model_id": "c01c37167a714bcaaf00ef2ae907556b",
       "version_major": 2,
       "version_minor": 0
      },
      "text/plain": [
       "Batches:   0%|          | 0/1 [00:00<?, ?it/s]"
      ]
     },
     "metadata": {},
     "output_type": "display_data"
    },
    {
     "name": "stderr",
     "output_type": "stream",
     "text": [
      "\r",
      "Analyzing responses:  42%|█████████████████████████▉                                   | 17/40 [00:05<00:07,  2.90it/s]"
     ]
    },
    {
     "data": {
      "application/vnd.jupyter.widget-view+json": {
       "model_id": "61b78c9278a6423b8b9f79d9d24bc678",
       "version_major": 2,
       "version_minor": 0
      },
      "text/plain": [
       "Batches:   0%|          | 0/1 [00:00<?, ?it/s]"
      ]
     },
     "metadata": {},
     "output_type": "display_data"
    },
    {
     "data": {
      "application/vnd.jupyter.widget-view+json": {
       "model_id": "a27286ce17c848b5b0fd9a14d81f09ff",
       "version_major": 2,
       "version_minor": 0
      },
      "text/plain": [
       "Batches:   0%|          | 0/1 [00:00<?, ?it/s]"
      ]
     },
     "metadata": {},
     "output_type": "display_data"
    },
    {
     "name": "stderr",
     "output_type": "stream",
     "text": [
      "\r",
      "Analyzing responses:  45%|███████████████████████████▍                                 | 18/40 [00:06<00:07,  2.91it/s]"
     ]
    },
    {
     "data": {
      "application/vnd.jupyter.widget-view+json": {
       "model_id": "c35e8878dfe445c5979509542f420beb",
       "version_major": 2,
       "version_minor": 0
      },
      "text/plain": [
       "Batches:   0%|          | 0/1 [00:00<?, ?it/s]"
      ]
     },
     "metadata": {},
     "output_type": "display_data"
    },
    {
     "data": {
      "application/vnd.jupyter.widget-view+json": {
       "model_id": "d92073b49a194a5fa3b6188ff5509ee8",
       "version_major": 2,
       "version_minor": 0
      },
      "text/plain": [
       "Batches:   0%|          | 0/1 [00:00<?, ?it/s]"
      ]
     },
     "metadata": {},
     "output_type": "display_data"
    },
    {
     "name": "stderr",
     "output_type": "stream",
     "text": [
      "\r",
      "Analyzing responses:  48%|████████████████████████████▉                                | 19/40 [00:06<00:07,  2.97it/s]"
     ]
    },
    {
     "data": {
      "application/vnd.jupyter.widget-view+json": {
       "model_id": "8a7bfadddc6148f5987bee7daa3c9ae1",
       "version_major": 2,
       "version_minor": 0
      },
      "text/plain": [
       "Batches:   0%|          | 0/1 [00:00<?, ?it/s]"
      ]
     },
     "metadata": {},
     "output_type": "display_data"
    },
    {
     "data": {
      "application/vnd.jupyter.widget-view+json": {
       "model_id": "5adc858a631d4497b9d2be1f08122a36",
       "version_major": 2,
       "version_minor": 0
      },
      "text/plain": [
       "Batches:   0%|          | 0/1 [00:00<?, ?it/s]"
      ]
     },
     "metadata": {},
     "output_type": "display_data"
    },
    {
     "name": "stderr",
     "output_type": "stream",
     "text": [
      "\r",
      "Analyzing responses:  50%|██████████████████████████████▌                              | 20/40 [00:06<00:06,  3.07it/s]"
     ]
    },
    {
     "data": {
      "application/vnd.jupyter.widget-view+json": {
       "model_id": "e6935ee1f3114c54a7a114fe50d5e711",
       "version_major": 2,
       "version_minor": 0
      },
      "text/plain": [
       "Batches:   0%|          | 0/1 [00:00<?, ?it/s]"
      ]
     },
     "metadata": {},
     "output_type": "display_data"
    },
    {
     "data": {
      "application/vnd.jupyter.widget-view+json": {
       "model_id": "01dad39f11144b3195b3ca9798360186",
       "version_major": 2,
       "version_minor": 0
      },
      "text/plain": [
       "Batches:   0%|          | 0/1 [00:00<?, ?it/s]"
      ]
     },
     "metadata": {},
     "output_type": "display_data"
    },
    {
     "name": "stderr",
     "output_type": "stream",
     "text": [
      "\r",
      "Analyzing responses:  52%|████████████████████████████████                             | 21/40 [00:07<00:06,  3.08it/s]"
     ]
    },
    {
     "data": {
      "application/vnd.jupyter.widget-view+json": {
       "model_id": "40e4c06ce88744dca8b769a9dda13cec",
       "version_major": 2,
       "version_minor": 0
      },
      "text/plain": [
       "Batches:   0%|          | 0/1 [00:00<?, ?it/s]"
      ]
     },
     "metadata": {},
     "output_type": "display_data"
    },
    {
     "data": {
      "application/vnd.jupyter.widget-view+json": {
       "model_id": "2db75fbaa02d4388ab93bbc8e0818b98",
       "version_major": 2,
       "version_minor": 0
      },
      "text/plain": [
       "Batches:   0%|          | 0/1 [00:00<?, ?it/s]"
      ]
     },
     "metadata": {},
     "output_type": "display_data"
    },
    {
     "name": "stderr",
     "output_type": "stream",
     "text": [
      "\r",
      "Analyzing responses:  55%|█████████████████████████████████▌                           | 22/40 [00:07<00:05,  3.06it/s]"
     ]
    },
    {
     "data": {
      "application/vnd.jupyter.widget-view+json": {
       "model_id": "7a4631d957fa411b9eb676b4c40aa7b0",
       "version_major": 2,
       "version_minor": 0
      },
      "text/plain": [
       "Batches:   0%|          | 0/1 [00:00<?, ?it/s]"
      ]
     },
     "metadata": {},
     "output_type": "display_data"
    },
    {
     "data": {
      "application/vnd.jupyter.widget-view+json": {
       "model_id": "94f5d79b3f874e8d8f27041ea9cb9580",
       "version_major": 2,
       "version_minor": 0
      },
      "text/plain": [
       "Batches:   0%|          | 0/1 [00:00<?, ?it/s]"
      ]
     },
     "metadata": {},
     "output_type": "display_data"
    },
    {
     "name": "stderr",
     "output_type": "stream",
     "text": [
      "\r",
      "Analyzing responses:  57%|███████████████████████████████████                          | 23/40 [00:07<00:05,  3.11it/s]"
     ]
    },
    {
     "data": {
      "application/vnd.jupyter.widget-view+json": {
       "model_id": "9a3ca7c756fc486c9a194d53760a4769",
       "version_major": 2,
       "version_minor": 0
      },
      "text/plain": [
       "Batches:   0%|          | 0/1 [00:00<?, ?it/s]"
      ]
     },
     "metadata": {},
     "output_type": "display_data"
    },
    {
     "data": {
      "application/vnd.jupyter.widget-view+json": {
       "model_id": "b09980fc33164fe7a4d97c62d28e11f4",
       "version_major": 2,
       "version_minor": 0
      },
      "text/plain": [
       "Batches:   0%|          | 0/1 [00:00<?, ?it/s]"
      ]
     },
     "metadata": {},
     "output_type": "display_data"
    },
    {
     "name": "stderr",
     "output_type": "stream",
     "text": [
      "\r",
      "Analyzing responses:  60%|████████████████████████████████████▌                        | 24/40 [00:08<00:05,  2.87it/s]"
     ]
    },
    {
     "data": {
      "application/vnd.jupyter.widget-view+json": {
       "model_id": "ec82b88131db4dfd972bdd0767103417",
       "version_major": 2,
       "version_minor": 0
      },
      "text/plain": [
       "Batches:   0%|          | 0/1 [00:00<?, ?it/s]"
      ]
     },
     "metadata": {},
     "output_type": "display_data"
    },
    {
     "data": {
      "application/vnd.jupyter.widget-view+json": {
       "model_id": "184a36507cca49ea96f4aacf475efb21",
       "version_major": 2,
       "version_minor": 0
      },
      "text/plain": [
       "Batches:   0%|          | 0/1 [00:00<?, ?it/s]"
      ]
     },
     "metadata": {},
     "output_type": "display_data"
    },
    {
     "name": "stderr",
     "output_type": "stream",
     "text": [
      "\r",
      "Analyzing responses:  62%|██████████████████████████████████████▏                      | 25/40 [00:08<00:05,  2.79it/s]"
     ]
    },
    {
     "data": {
      "application/vnd.jupyter.widget-view+json": {
       "model_id": "7d164b73a3194c7fa2efc1e7800112d8",
       "version_major": 2,
       "version_minor": 0
      },
      "text/plain": [
       "Batches:   0%|          | 0/1 [00:00<?, ?it/s]"
      ]
     },
     "metadata": {},
     "output_type": "display_data"
    },
    {
     "data": {
      "application/vnd.jupyter.widget-view+json": {
       "model_id": "59d02fc66c8b4f4ca406bfa129b54a28",
       "version_major": 2,
       "version_minor": 0
      },
      "text/plain": [
       "Batches:   0%|          | 0/1 [00:00<?, ?it/s]"
      ]
     },
     "metadata": {},
     "output_type": "display_data"
    },
    {
     "name": "stderr",
     "output_type": "stream",
     "text": [
      "\r",
      "Analyzing responses:  65%|███████████████████████████████████████▋                     | 26/40 [00:09<00:04,  2.91it/s]"
     ]
    },
    {
     "data": {
      "application/vnd.jupyter.widget-view+json": {
       "model_id": "64fc216f610d46a498d252dbee402fb8",
       "version_major": 2,
       "version_minor": 0
      },
      "text/plain": [
       "Batches:   0%|          | 0/1 [00:00<?, ?it/s]"
      ]
     },
     "metadata": {},
     "output_type": "display_data"
    },
    {
     "data": {
      "application/vnd.jupyter.widget-view+json": {
       "model_id": "c11f8312920c4eac9f4c6190a1a32478",
       "version_major": 2,
       "version_minor": 0
      },
      "text/plain": [
       "Batches:   0%|          | 0/1 [00:00<?, ?it/s]"
      ]
     },
     "metadata": {},
     "output_type": "display_data"
    },
    {
     "name": "stderr",
     "output_type": "stream",
     "text": [
      "\r",
      "Analyzing responses:  68%|█████████████████████████████████████████▏                   | 27/40 [00:09<00:04,  2.89it/s]"
     ]
    },
    {
     "data": {
      "application/vnd.jupyter.widget-view+json": {
       "model_id": "b4e8dd7243154b41ad27a2191b5716a7",
       "version_major": 2,
       "version_minor": 0
      },
      "text/plain": [
       "Batches:   0%|          | 0/1 [00:00<?, ?it/s]"
      ]
     },
     "metadata": {},
     "output_type": "display_data"
    },
    {
     "data": {
      "application/vnd.jupyter.widget-view+json": {
       "model_id": "757f968e355448e0a49e4aa747e1b769",
       "version_major": 2,
       "version_minor": 0
      },
      "text/plain": [
       "Batches:   0%|          | 0/1 [00:00<?, ?it/s]"
      ]
     },
     "metadata": {},
     "output_type": "display_data"
    },
    {
     "name": "stderr",
     "output_type": "stream",
     "text": [
      "\r",
      "Analyzing responses:  70%|██████████████████████████████████████████▋                  | 28/40 [00:09<00:04,  2.88it/s]"
     ]
    },
    {
     "data": {
      "application/vnd.jupyter.widget-view+json": {
       "model_id": "6e1f337b9d8f4f049200a2ee83cb72d3",
       "version_major": 2,
       "version_minor": 0
      },
      "text/plain": [
       "Batches:   0%|          | 0/1 [00:00<?, ?it/s]"
      ]
     },
     "metadata": {},
     "output_type": "display_data"
    },
    {
     "data": {
      "application/vnd.jupyter.widget-view+json": {
       "model_id": "93fa2d8527e6437baffedf933ff6f1b1",
       "version_major": 2,
       "version_minor": 0
      },
      "text/plain": [
       "Batches:   0%|          | 0/1 [00:00<?, ?it/s]"
      ]
     },
     "metadata": {},
     "output_type": "display_data"
    },
    {
     "name": "stderr",
     "output_type": "stream",
     "text": [
      "\r",
      "Analyzing responses:  72%|████████████████████████████████████████████▏                | 29/40 [00:10<00:03,  2.95it/s]"
     ]
    },
    {
     "data": {
      "application/vnd.jupyter.widget-view+json": {
       "model_id": "6acec5b1a0f74cdda7ddd1cd194731da",
       "version_major": 2,
       "version_minor": 0
      },
      "text/plain": [
       "Batches:   0%|          | 0/1 [00:00<?, ?it/s]"
      ]
     },
     "metadata": {},
     "output_type": "display_data"
    },
    {
     "data": {
      "application/vnd.jupyter.widget-view+json": {
       "model_id": "ceb8173375a446338fd65344618c1691",
       "version_major": 2,
       "version_minor": 0
      },
      "text/plain": [
       "Batches:   0%|          | 0/1 [00:00<?, ?it/s]"
      ]
     },
     "metadata": {},
     "output_type": "display_data"
    },
    {
     "name": "stderr",
     "output_type": "stream",
     "text": [
      "\r",
      "Analyzing responses:  75%|█████████████████████████████████████████████▊               | 30/40 [00:10<00:03,  3.00it/s]"
     ]
    },
    {
     "data": {
      "application/vnd.jupyter.widget-view+json": {
       "model_id": "20721c49eeef455bab9dd2b0c7dca043",
       "version_major": 2,
       "version_minor": 0
      },
      "text/plain": [
       "Batches:   0%|          | 0/1 [00:00<?, ?it/s]"
      ]
     },
     "metadata": {},
     "output_type": "display_data"
    },
    {
     "data": {
      "application/vnd.jupyter.widget-view+json": {
       "model_id": "3911031c68114d089a23e4e3833a4a57",
       "version_major": 2,
       "version_minor": 0
      },
      "text/plain": [
       "Batches:   0%|          | 0/1 [00:00<?, ?it/s]"
      ]
     },
     "metadata": {},
     "output_type": "display_data"
    },
    {
     "name": "stderr",
     "output_type": "stream",
     "text": [
      "\r",
      "Analyzing responses:  78%|███████████████████████████████████████████████▎             | 31/40 [00:10<00:02,  3.03it/s]"
     ]
    },
    {
     "data": {
      "application/vnd.jupyter.widget-view+json": {
       "model_id": "b36450031de64cda9a15b2b0f01da3d8",
       "version_major": 2,
       "version_minor": 0
      },
      "text/plain": [
       "Batches:   0%|          | 0/1 [00:00<?, ?it/s]"
      ]
     },
     "metadata": {},
     "output_type": "display_data"
    },
    {
     "data": {
      "application/vnd.jupyter.widget-view+json": {
       "model_id": "d0172b5ab9a2490a981d697751e886f5",
       "version_major": 2,
       "version_minor": 0
      },
      "text/plain": [
       "Batches:   0%|          | 0/1 [00:00<?, ?it/s]"
      ]
     },
     "metadata": {},
     "output_type": "display_data"
    },
    {
     "name": "stderr",
     "output_type": "stream",
     "text": [
      "\r",
      "Analyzing responses:  80%|████████████████████████████████████████████████▊            | 32/40 [00:10<00:02,  3.07it/s]"
     ]
    },
    {
     "data": {
      "application/vnd.jupyter.widget-view+json": {
       "model_id": "f28b89cbe6e749e1a1f422304720caf5",
       "version_major": 2,
       "version_minor": 0
      },
      "text/plain": [
       "Batches:   0%|          | 0/1 [00:00<?, ?it/s]"
      ]
     },
     "metadata": {},
     "output_type": "display_data"
    },
    {
     "data": {
      "application/vnd.jupyter.widget-view+json": {
       "model_id": "99c2928f754e4f6c9cbcb861b2f1e620",
       "version_major": 2,
       "version_minor": 0
      },
      "text/plain": [
       "Batches:   0%|          | 0/1 [00:00<?, ?it/s]"
      ]
     },
     "metadata": {},
     "output_type": "display_data"
    },
    {
     "name": "stderr",
     "output_type": "stream",
     "text": [
      "\r",
      "Analyzing responses:  82%|██████████████████████████████████████████████████▎          | 33/40 [00:11<00:02,  3.09it/s]"
     ]
    },
    {
     "data": {
      "application/vnd.jupyter.widget-view+json": {
       "model_id": "64a032e603f444779bfead5646938aff",
       "version_major": 2,
       "version_minor": 0
      },
      "text/plain": [
       "Batches:   0%|          | 0/1 [00:00<?, ?it/s]"
      ]
     },
     "metadata": {},
     "output_type": "display_data"
    },
    {
     "data": {
      "application/vnd.jupyter.widget-view+json": {
       "model_id": "c6b20e6cc04a492ea1223733e71185c8",
       "version_major": 2,
       "version_minor": 0
      },
      "text/plain": [
       "Batches:   0%|          | 0/1 [00:00<?, ?it/s]"
      ]
     },
     "metadata": {},
     "output_type": "display_data"
    },
    {
     "name": "stderr",
     "output_type": "stream",
     "text": [
      "\r",
      "Analyzing responses:  85%|███████████████████████████████████████████████████▊         | 34/40 [00:11<00:01,  3.10it/s]"
     ]
    },
    {
     "data": {
      "application/vnd.jupyter.widget-view+json": {
       "model_id": "6efd9426116f4647b034253fca45e0b5",
       "version_major": 2,
       "version_minor": 0
      },
      "text/plain": [
       "Batches:   0%|          | 0/1 [00:00<?, ?it/s]"
      ]
     },
     "metadata": {},
     "output_type": "display_data"
    },
    {
     "data": {
      "application/vnd.jupyter.widget-view+json": {
       "model_id": "eecd743fcf614dc2b52314f5e9e14c31",
       "version_major": 2,
       "version_minor": 0
      },
      "text/plain": [
       "Batches:   0%|          | 0/1 [00:00<?, ?it/s]"
      ]
     },
     "metadata": {},
     "output_type": "display_data"
    },
    {
     "name": "stderr",
     "output_type": "stream",
     "text": [
      "\r",
      "Analyzing responses:  88%|█████████████████████████████████████████████████████▍       | 35/40 [00:11<00:01,  3.07it/s]"
     ]
    },
    {
     "data": {
      "application/vnd.jupyter.widget-view+json": {
       "model_id": "553a58dd63b64b4f904b1b65f89fb57d",
       "version_major": 2,
       "version_minor": 0
      },
      "text/plain": [
       "Batches:   0%|          | 0/1 [00:00<?, ?it/s]"
      ]
     },
     "metadata": {},
     "output_type": "display_data"
    },
    {
     "data": {
      "application/vnd.jupyter.widget-view+json": {
       "model_id": "31a236524661465d92dc2848b48432ef",
       "version_major": 2,
       "version_minor": 0
      },
      "text/plain": [
       "Batches:   0%|          | 0/1 [00:00<?, ?it/s]"
      ]
     },
     "metadata": {},
     "output_type": "display_data"
    },
    {
     "name": "stderr",
     "output_type": "stream",
     "text": [
      "\r",
      "Analyzing responses:  90%|██████████████████████████████████████████████████████▉      | 36/40 [00:12<00:01,  2.81it/s]"
     ]
    },
    {
     "data": {
      "application/vnd.jupyter.widget-view+json": {
       "model_id": "d9af794a736446cd9f4558305c6ce729",
       "version_major": 2,
       "version_minor": 0
      },
      "text/plain": [
       "Batches:   0%|          | 0/1 [00:00<?, ?it/s]"
      ]
     },
     "metadata": {},
     "output_type": "display_data"
    },
    {
     "data": {
      "application/vnd.jupyter.widget-view+json": {
       "model_id": "49b9e9d117ab4532b5ed61209598eb60",
       "version_major": 2,
       "version_minor": 0
      },
      "text/plain": [
       "Batches:   0%|          | 0/1 [00:00<?, ?it/s]"
      ]
     },
     "metadata": {},
     "output_type": "display_data"
    },
    {
     "name": "stderr",
     "output_type": "stream",
     "text": [
      "\r",
      "Analyzing responses:  92%|████████████████████████████████████████████████████████▍    | 37/40 [00:12<00:01,  2.44it/s]"
     ]
    },
    {
     "data": {
      "application/vnd.jupyter.widget-view+json": {
       "model_id": "f3d32d159e534632840e4d2163d58a26",
       "version_major": 2,
       "version_minor": 0
      },
      "text/plain": [
       "Batches:   0%|          | 0/1 [00:00<?, ?it/s]"
      ]
     },
     "metadata": {},
     "output_type": "display_data"
    },
    {
     "data": {
      "application/vnd.jupyter.widget-view+json": {
       "model_id": "1c317cfb4a7341d1abeac3a581017f75",
       "version_major": 2,
       "version_minor": 0
      },
      "text/plain": [
       "Batches:   0%|          | 0/1 [00:00<?, ?it/s]"
      ]
     },
     "metadata": {},
     "output_type": "display_data"
    },
    {
     "name": "stderr",
     "output_type": "stream",
     "text": [
      "\r",
      "Analyzing responses:  95%|█████████████████████████████████████████████████████████▉   | 38/40 [00:13<00:00,  2.19it/s]"
     ]
    },
    {
     "data": {
      "application/vnd.jupyter.widget-view+json": {
       "model_id": "51b799b5506c45b89a27bd042d010a51",
       "version_major": 2,
       "version_minor": 0
      },
      "text/plain": [
       "Batches:   0%|          | 0/1 [00:00<?, ?it/s]"
      ]
     },
     "metadata": {},
     "output_type": "display_data"
    },
    {
     "data": {
      "application/vnd.jupyter.widget-view+json": {
       "model_id": "a4e162efc26545628c0cfb2894ff8288",
       "version_major": 2,
       "version_minor": 0
      },
      "text/plain": [
       "Batches:   0%|          | 0/1 [00:00<?, ?it/s]"
      ]
     },
     "metadata": {},
     "output_type": "display_data"
    },
    {
     "name": "stderr",
     "output_type": "stream",
     "text": [
      "\r",
      "Analyzing responses:  98%|███████████████████████████████████████████████████████████▍ | 39/40 [00:13<00:00,  2.29it/s]"
     ]
    },
    {
     "data": {
      "application/vnd.jupyter.widget-view+json": {
       "model_id": "52b83420cf9d4bbaadda8956b2311473",
       "version_major": 2,
       "version_minor": 0
      },
      "text/plain": [
       "Batches:   0%|          | 0/1 [00:00<?, ?it/s]"
      ]
     },
     "metadata": {},
     "output_type": "display_data"
    },
    {
     "data": {
      "application/vnd.jupyter.widget-view+json": {
       "model_id": "4d9435bc95964b628325d4007a886ee4",
       "version_major": 2,
       "version_minor": 0
      },
      "text/plain": [
       "Batches:   0%|          | 0/1 [00:00<?, ?it/s]"
      ]
     },
     "metadata": {},
     "output_type": "display_data"
    },
    {
     "name": "stderr",
     "output_type": "stream",
     "text": [
      "Analyzing responses: 100%|█████████████████████████████████████████████████████████████| 40/40 [00:14<00:00,  2.82it/s]"
     ]
    },
    {
     "name": "stdout",
     "output_type": "stream",
     "text": [
      "\n",
      "Summary Metrics:\n",
      "Average Faithfulness: 0.3773\n",
      "Average Hallucination: 0.6227\n",
      "Average Coverage: 0.7460\n"
     ]
    },
    {
     "name": "stderr",
     "output_type": "stream",
     "text": [
      "\n"
     ]
    }
   ],
   "source": [
    "\n",
    "# Example usage:\n",
    "\n",
    "calculator = FaithfulnessCalculator('hybrid_evaluation/qna_hybrid.json')\n",
    "results = calculator.analyze_rag_results()\n",
    "\n",
    "print(\"\\nSummary Metrics:\")\n",
    "print(f\"Average Faithfulness: {results['summary']['average_faithfulness']:.4f}\")\n",
    "print(f\"Average Hallucination: {results['summary']['average_hallucination']:.4f}\")\n",
    "print(f\"Average Coverage: {results['summary']['average_coverage']:.4f}\")\n"
   ]
  },
  {
   "cell_type": "code",
   "execution_count": 2,
   "id": "09360b1e",
   "metadata": {},
   "outputs": [
    {
     "name": "stderr",
     "output_type": "stream",
     "text": [
      "2025-03-04 21:55:55,084 - INFO - Use pytorch device_name: cpu\n",
      "2025-03-04 21:55:55,085 - INFO - Load pretrained SentenceTransformer: all-MiniLM-L6-v2\n",
      "C:\\Users\\prana\\anaconda3\\Lib\\site-packages\\transformers\\tokenization_utils_base.py:1601: FutureWarning: `clean_up_tokenization_spaces` was not set. It will be set to `True` by default. This behavior will be depracted in transformers v4.45, and will be then set to `False` by default. For more details check this issue: https://github.com/huggingface/transformers/issues/31884\n",
      "  warnings.warn(\n",
      "2025-03-04 21:55:56,919 - INFO - Loaded 40 RAG results\n",
      "Analyzing responses: 100%|█████████████████████████████████████████████████████████████| 40/40 [00:00<00:00, 77.93it/s]\n",
      "2025-03-04 21:55:57,434 - INFO - Average Faithfulness: 0.4409\n",
      "2025-03-04 21:55:57,435 - INFO - Average Hallucination: 0.5591\n",
      "2025-03-04 21:55:57,435 - INFO - Average Coverage: 0.3565\n"
     ]
    },
    {
     "name": "stdout",
     "output_type": "stream",
     "text": [
      "\n",
      "Summary Metrics:\n",
      "Average Faithfulness: 0.4409\n",
      "Average Hallucination: 0.5591\n",
      "Average Coverage: 0.3565\n"
     ]
    }
   ],
   "source": [
    "\n",
    "# Example usage:\n",
    "\n",
    "calculator = FaithfulnessCalculator('hybrid_evaluation/qna_combined_elastic.json')\n",
    "results = calculator.analyze_rag_results()\n",
    "\n",
    "print(\"\\nSummary Metrics:\")\n",
    "print(f\"Average Faithfulness: {results['summary']['average_faithfulness']:.4f}\")\n",
    "print(f\"Average Hallucination: {results['summary']['average_hallucination']:.4f}\")\n",
    "print(f\"Average Coverage: {results['summary']['average_coverage']:.4f}\")\n"
   ]
  },
  {
   "cell_type": "code",
   "execution_count": null,
   "id": "d09fffbe",
   "metadata": {},
   "outputs": [],
   "source": []
  },
  {
   "cell_type": "code",
   "execution_count": 16,
   "id": "0ab633fa",
   "metadata": {},
   "outputs": [],
   "source": [
    "import json\n",
    "import numpy as np\n",
    "from pathlib import Path\n",
    "from typing import Dict, List, Any\n",
    "from tqdm import tqdm\n",
    "from nltk.translate.bleu_score import sentence_bleu, SmoothingFunction\n",
    "from nltk.tokenize import word_tokenize\n",
    "import nltk\n",
    "import logging\n",
    "import torch\n",
    "from transformers import AutoTokenizer, AutoModel\n",
    "from sentence_transformers import SentenceTransformer\n",
    "import pickle\n",
    "from collections import defaultdict, Counter"
   ]
  },
  {
   "cell_type": "code",
   "execution_count": 31,
   "id": "8a6b1b81",
   "metadata": {},
   "outputs": [
    {
     "data": {
      "image/png": "[encoded data removed]",
      "text/plain": [
       "<Figure size 1000x1200 with 3 Axes>"
      ]
     },
     "metadata": {},
     "output_type": "display_data"
    }
   ],
   "source": [
    "import matplotlib.pyplot as plt\n",
    "import numpy as np\n",
    "\n",
    "# Data\n",
    "methods = ['Hybrid', 'Content Only', 'Content+Metadata']\n",
    "faithfulness = [0.3773, 0.6282, 0.8691]\n",
    "hallucination = [0.6227, 0.3718, 0.1309] \n",
    "coverage = [0.7460, 0.6131, 0.2031]\n",
    "retrieval_time = [14.1316, 6.8266, 5.8719]\n",
    "distance = [0.8642, 0.5459, 0.7510]\n",
    "\n",
    "# Create figure with 3 subplots\n",
    "fig, (ax1, ax2, ax3) = plt.subplots(3, 1, figsize=(10, 12))\n",
    "\n",
    "# Plot 1: Quality Metrics\n",
    "x = np.arange(len(methods))\n",
    "width = 0.25\n",
    "\n",
    "ax1.bar(x - width, faithfulness, width, label='Faithfulness', color='#4CAF50')\n",
    "ax1.bar(x, hallucination, width, label='Hallucination', color='#f44336')\n",
    "ax1.bar(x + width, coverage, width, label='Coverage', color='#2196F3')\n",
    "ax1.set_ylabel('Score')\n",
    "ax1.set_title('Quality Metrics Comparison')\n",
    "ax1.set_xticks(x)\n",
    "ax1.set_xticklabels(methods)\n",
    "ax1.legend()\n",
    "\n",
    "# Plot 2: Retrieval Time\n",
    "ax2.bar(methods, retrieval_time, color='#FF9800')\n",
    "ax2.set_ylabel('Time (ms)')\n",
    "ax2.set_title('Average Retrieval Time')\n",
    "\n",
    "# Plot 3: Distance\n",
    "ax3.bar(methods, distance, color='#9C27B0')\n",
    "ax3.set_ylabel('Distance')\n",
    "ax3.set_title('Average Distance')\n",
    "\n",
    "plt.tight_layout()\n",
    "plt.show()"
   ]
  },
  {
   "cell_type": "code",
   "execution_count": 66,
   "id": "f0dd831b",
   "metadata": {
    "scrolled": false
   },
   "outputs": [
    {
     "name": "stderr",
     "output_type": "stream",
     "text": [
      "C:\\Users\\prana\\AppData\\Local\\Temp\\ipykernel_44652\\1482636278.py:13: MatplotlibDeprecationWarning:\n",
      "\n",
      "The seaborn styles shipped by Matplotlib are deprecated since 3.6, as they no longer correspond to the styles shipped by seaborn. However, they will remain available as 'seaborn-v0_8-<style>'. Alternatively, directly use the seaborn API instead.\n",
      "\n"
     ]
    },
    {
     "data": {
      "image/png": "[encoded data removed]",
      "text/plain": [
       "<Figure size 1200x1500 with 3 Axes>"
      ]
     },
     "metadata": {},
     "output_type": "display_data"
    }
   ],
   "source": [
    "\n",
    "import matplotlib.pyplot as plt\n",
    "import numpy as np\n",
    "\n",
    "# Data\n",
    "methods = ['Hybrid', 'Content Only', 'Content+Metadata']\n",
    "faithfulness = [0.3773, 0.6282, 0.8691]\n",
    "hallucination = [0.6227, 0.3718, 0.1309]\n",
    "coverage = [0.2943, 0.3982, 0.4474]\n",
    "retrieval_time = [14.1316, 6.8266, 5.8719]\n",
    "distance = [0.8642, 0.5459, 0.7510]\n",
    "\n",
    "# Set style and figure size\n",
    "plt.style.use('seaborn')\n",
    "fig, (ax1, ax2, ax3) = plt.subplots(3, 1, figsize=(12, 15))\n",
    "fig.suptitle('RAG System Performance Analysis', fontsize=16, y=0.95)\n",
    "\n",
    "# Plot 1: Quality Metrics\n",
    "# Plot 1: Quality Metrics\n",
    "x = np.arange(len(methods))\n",
    "width = 0.25\n",
    "\n",
    "bars1 = ax1.bar(x - width, faithfulness, width, label='Faithfulness', color='#4CAF50')\n",
    "bars2 = ax1.bar(x, coverage, width, label='Coverage', color='#2196F3')\n",
    "bars3 = ax1.bar(x + 1.2*width, hallucination, width, label='Hallucination', color='#f44336')\n",
    "\n",
    "ax1.set_ylabel('Score') \n",
    "ax1.set_title('Quality Metrics Comparison')\n",
    "ax1.set_xticks(x)\n",
    "ax1.set_xticklabels(methods)\n",
    "ax1.legend()\n",
    "ax1.set_ylim(0, 1.0)\n",
    "\n",
    "# Add value labels\n",
    "for bars in [bars1, bars2, bars3]:\n",
    "    for bar in bars:\n",
    "        height = bar.get_height()\n",
    "        ax1.text(bar.get_x() + bar.get_width()/2., height,\n",
    "                f'{height:.3f}', ha='center', va='bottom')\n",
    "\n",
    "# Plot 2: Retrieval Time\n",
    "bars4 = ax2.bar(methods, retrieval_time, color='#FF9800')\n",
    "ax2.set_ylabel('Time (ms)')\n",
    "ax2.set_title('Average Retrieval Time')\n",
    "for bar in bars4:\n",
    "    height = bar.get_height()\n",
    "    ax2.text(bar.get_x() + bar.get_width()/2., height,\n",
    "            f'{height:.2f}', ha='center', va='bottom')\n",
    "\n",
    "# Plot 3: Distance\n",
    "bars5 = ax3.bar(methods, distance, color='#9C27B0')\n",
    "ax3.set_ylabel('Distance')\n",
    "ax3.set_title('Average Cosine Distance')\n",
    "for bar in bars5:\n",
    "    height = bar.get_height()\n",
    "    ax3.text(bar.get_x() + bar.get_width()/2., height,\n",
    "            f'{height:.3f}', ha='center', va='bottom')\n",
    "\n",
    "plt.tight_layout()\n",
    "plt.subplots_adjust(hspace=0.4)\n",
    "plt.show()\n"
   ]
  },
  {
   "cell_type": "code",
   "execution_count": null,
   "id": "daf484d5",
   "metadata": {},
   "outputs": [],
   "source": []
  },
  {
   "cell_type": "markdown",
   "id": "e0435e76",
   "metadata": {},
   "source": [
    "# Add captions as text boxes\n",
    "Figure 1: Quality metrics comparison showing faithfulness (token overlap with context), hallucination\\n' \n",
    "         'rate (tokens not found in context), and semantic coverage between response and context. Results demonstrate\\n'\n",
    "         'Content+Metadata achieves superior faithfulness while Hybrid maintains better coverage.', fontsize=13, ha='left', wrap=True)\n",
    "\n",
    "Figure 2: Processing efficiency measured through retrieval times. Hybrid search requires approximately\\n'\n",
    "         'twice the processing time compared to other approaches, likely due to the overhead of combining multiple\\n'\n",
    "         'search strategies.', fontsize=13, ha='left', wrap=True)\n",
    "\n",
    "Figure 3: Average cosine distance between queries and retrieved documents. Higher distances in Hybrid\\n'\n",
    "         'and Content+Metadata suggest more diverse results, while Content Only shows tighter semantic alignment\\n'\n",
    "         'between queries and documents.', fontsize=13, ha='left', wrap=True)"
   ]
  },
  {
   "cell_type": "code",
   "execution_count": 60,
   "id": "6c541756",
   "metadata": {
    "scrolled": true
   },
   "outputs": [
    {
     "name": "stderr",
     "output_type": "stream",
     "text": [
      "Analyzing responses: 100%|█████████████████████████████████████████████████████████████| 40/40 [00:00<00:00, 99.71it/s]"
     ]
    },
    {
     "name": "stdout",
     "output_type": "stream",
     "text": [
      "\n",
      "Summary Metrics:\n",
      "Average Faithfulness: 0.8691\n",
      "Average Hallucination: 0.1309\n",
      "Average Coverage: 0.4474\n"
     ]
    },
    {
     "name": "stderr",
     "output_type": "stream",
     "text": [
      "\n"
     ]
    }
   ],
   "source": [
    "\n",
    "# Example usage:\n",
    "\n",
    "calculator = FaithfulnessCalculator('hybrid_evaluation/qna_combined.json')\n",
    "results = calculator.analyze_rag_results()\n",
    "\n",
    "print(\"\\nSummary Metrics:\")\n",
    "print(f\"Average Faithfulness: {results['summary']['average_faithfulness']:.4f}\")\n",
    "print(f\"Average Hallucination: {results['summary']['average_hallucination']:.4f}\")\n",
    "print(f\"Average Coverage: {results['summary']['average_coverage']:.4f}\")\n"
   ]
  },
  {
   "cell_type": "code",
   "execution_count": 61,
   "id": "f483af6b",
   "metadata": {},
   "outputs": [
    {
     "name": "stderr",
     "output_type": "stream",
     "text": [
      "Analyzing responses: 100%|█████████████████████████████████████████████████████████████| 40/40 [00:00<00:00, 67.62it/s]"
     ]
    },
    {
     "name": "stdout",
     "output_type": "stream",
     "text": [
      "\n",
      "Summary Metrics:\n",
      "Average Faithfulness: 0.6282\n",
      "Average Hallucination: 0.3718\n",
      "Average Coverage: 0.3982\n"
     ]
    },
    {
     "name": "stderr",
     "output_type": "stream",
     "text": [
      "\n"
     ]
    }
   ],
   "source": [
    "\n",
    "# Example usage:\n",
    "\n",
    "calculator = FaithfulnessCalculator('hybrid_evaluation/qna_content.json')\n",
    "results = calculator.analyze_rag_results()\n",
    "\n",
    "print(\"\\nSummary Metrics:\")\n",
    "print(f\"Average Faithfulness: {results['summary']['average_faithfulness']:.4f}\")\n",
    "print(f\"Average Hallucination: {results['summary']['average_hallucination']:.4f}\")\n",
    "print(f\"Average Coverage: {results['summary']['average_coverage']:.4f}\")\n"
   ]
  },
  {
   "cell_type": "code",
   "execution_count": 62,
   "id": "de832cc4",
   "metadata": {},
   "outputs": [
    {
     "name": "stderr",
     "output_type": "stream",
     "text": [
      "Analyzing responses: 100%|█████████████████████████████████████████████████████████████| 40/40 [00:00<00:00, 40.44it/s]"
     ]
    },
    {
     "name": "stdout",
     "output_type": "stream",
     "text": [
      "\n",
      "Summary Metrics:\n",
      "Average Faithfulness: 0.3773\n",
      "Average Hallucination: 0.6227\n",
      "Average Coverage: 0.2943\n"
     ]
    },
    {
     "name": "stderr",
     "output_type": "stream",
     "text": [
      "\n"
     ]
    }
   ],
   "source": [
    "\n",
    "# Example usage:\n",
    "\n",
    "calculator = FaithfulnessCalculator('hybrid_evaluation/qna_hybrid.json')\n",
    "results = calculator.analyze_rag_results()\n",
    "\n",
    "print(\"\\nSummary Metrics:\")\n",
    "print(f\"Average Faithfulness: {results['summary']['average_faithfulness']:.4f}\")\n",
    "print(f\"Average Hallucination: {results['summary']['average_hallucination']:.4f}\")\n",
    "print(f\"Average Coverage: {results['summary']['average_coverage']:.4f}\")\n"
   ]
  },
  {
   "cell_type": "code",
   "execution_count": null,
   "id": "dcbfcc39",
   "metadata": {},
   "outputs": [],
   "source": []
  }
 ],
 "metadata": {
  "kernelspec": {
   "display_name": "Python 3 (ipykernel)",
   "language": "python",
   "name": "python3"
  },
  "language_info": {
   "codemirror_mode": {
    "name": "ipython",
    "version": 3
   },
   "file_extension": ".py",
   "mimetype": "text/x-python",
   "name": "python",
   "nbconvert_exporter": "python",
   "pygments_lexer": "ipython3",
   "version": "3.11.4"
  }
 },
 "nbformat": 4,
 "nbformat_minor": 5
}
